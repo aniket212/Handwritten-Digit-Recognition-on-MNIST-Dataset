{
 "cells": [
  {
   "cell_type": "code",
   "execution_count": 0,
   "metadata": {
    "colab": {},
    "colab_type": "code",
    "id": "18c5rjX1jN3b"
   },
   "outputs": [],
   "source": [
    "import numpy as np\n",
    "import pandas as pd\n",
    "import seaborn as sns\n",
    "import matplotlib.pyplot as plt\n",
    "%matplotlib inline"
   ]
  },
  {
   "cell_type": "code",
   "execution_count": 0,
   "metadata": {
    "colab": {},
    "colab_type": "code",
    "id": "fGH3K_ccjV99"
   },
   "outputs": [],
   "source": [
    "from keras.utils import np_utils\n",
    "from keras.datasets import mnist\n",
    "from keras.initializers import RandomNormal\n",
    "from __future__ import division\n"
   ]
  },
  {
   "cell_type": "code",
   "execution_count": 0,
   "metadata": {
    "colab": {},
    "colab_type": "code",
    "id": "56LHhufcj4wt"
   },
   "outputs": [],
   "source": [
    "\n",
    "# https://gist.github.com/greydanus/f6eee59eaf1d90fcb3b534a25362cea4\n",
    "# https://stackoverflow.com/a/14434334\n",
    "# this function is used to update the plots for each epoch and error\n",
    "def plt_dynamic(x, vy, ty, ax, colors=['b']):\n",
    "    ax.plot(x, vy, 'b', label=\"Validation Loss\")\n",
    "    ax.plot(x, ty, 'r', label=\"Train Loss\")\n",
    "    plt.legend()\n",
    "    plt.grid()\n",
    "    fig.canvas.draw()"
   ]
  },
  {
   "cell_type": "code",
   "execution_count": 0,
   "metadata": {
    "colab": {},
    "colab_type": "code",
    "id": "IpnQRZF8j8HA"
   },
   "outputs": [],
   "source": [
    "(x_train,y_train),(x_test,y_test)=mnist.load_data()"
   ]
  },
  {
   "cell_type": "code",
   "execution_count": 9,
   "metadata": {
    "colab": {
     "base_uri": "https://localhost:8080/",
     "height": 51
    },
    "colab_type": "code",
    "executionInfo": {
     "elapsed": 712,
     "status": "ok",
     "timestamp": 1559849809161,
     "user": {
      "displayName": "aniket rajani",
      "photoUrl": "https://lh4.googleusercontent.com/-YW3EVGDzDNk/AAAAAAAAAAI/AAAAAAAAAWc/JIWyh4t_fwc/s64/photo.jpg",
      "userId": "09924859060618605904"
     },
     "user_tz": -330
    },
    "id": "j0AEDGtekT8F",
    "outputId": "ef768af7-55a6-4406-bc1a-b6e26acb3971"
   },
   "outputs": [
    {
     "name": "stdout",
     "output_type": "stream",
     "text": [
      "Shape of training data is (60000, 28, 28)\n",
      "Shape of test data is (10000, 28, 28)\n"
     ]
    }
   ],
   "source": [
    "print(\"Shape of training data is {0}\".format(x_train.shape))\n",
    "print(\"Shape of test data is {0}\".format(x_test.shape)) #28 * 28 represents image"
   ]
  },
  {
   "cell_type": "code",
   "execution_count": 10,
   "metadata": {
    "colab": {
     "base_uri": "https://localhost:8080/",
     "height": 51
    },
    "colab_type": "code",
    "executionInfo": {
     "elapsed": 978,
     "status": "ok",
     "timestamp": 1559849812004,
     "user": {
      "displayName": "aniket rajani",
      "photoUrl": "https://lh4.googleusercontent.com/-YW3EVGDzDNk/AAAAAAAAAAI/AAAAAAAAAWc/JIWyh4t_fwc/s64/photo.jpg",
      "userId": "09924859060618605904"
     },
     "user_tz": -330
    },
    "id": "GxpMTgTjkb64",
    "outputId": "aca59954-1256-423a-cc87-e5180373f1da"
   },
   "outputs": [
    {
     "name": "stdout",
     "output_type": "stream",
     "text": [
      "Shape after flatenning a matrix into 784d vector is (60000, 784)\n",
      "Shape after flatenning a matrix into 784d vector is (10000, 784)\n"
     ]
    }
   ],
   "source": [
    "x_train=x_train.reshape(x_train.shape[0],x_train.shape[1]*x_train.shape[2])\n",
    "x_test=x_test.reshape(x_test.shape[0],x_test.shape[1]*x_test.shape[2])\n",
    "\n",
    "print(\"Shape after flatenning a matrix into 784d vector is {0}\".format(x_train.shape))\n",
    "print(\"Shape after flatenning a matrix into 784d vector is {0}\".format(x_test.shape))"
   ]
  },
  {
   "cell_type": "code",
   "execution_count": 11,
   "metadata": {
    "colab": {
     "base_uri": "https://localhost:8080/",
     "height": 765
    },
    "colab_type": "code",
    "executionInfo": {
     "elapsed": 1013,
     "status": "ok",
     "timestamp": 1559849815354,
     "user": {
      "displayName": "aniket rajani",
      "photoUrl": "https://lh4.googleusercontent.com/-YW3EVGDzDNk/AAAAAAAAAAI/AAAAAAAAAWc/JIWyh4t_fwc/s64/photo.jpg",
      "userId": "09924859060618605904"
     },
     "user_tz": -330
    },
    "id": "stfhtsfUk1OQ",
    "outputId": "f5387fa0-7de1-4b67-9db0-66e5baabb07c"
   },
   "outputs": [
    {
     "name": "stdout",
     "output_type": "stream",
     "text": [
      "[  0   0   0   0   0   0   0   0   0   0   0   0   0   0   0   0   0   0\n",
      "   0   0   0   0   0   0   0   0   0   0   0   0   0   0   0   0   0   0\n",
      "   0   0   0   0   0   0   0   0   0   0   0   0   0   0   0   0   0   0\n",
      "   0   0   0   0   0   0   0   0   0   0   0   0   0   0   0   0   0   0\n",
      "   0   0   0   0   0   0   0   0   0   0   0   0   0   0   0   0   0   0\n",
      "   0   0   0   0   0   0   0   0   0   0   0   0   0   0   0   0   0   0\n",
      "   0   0   0   0   0   0   0   0   0   0   0   0   0   0   0   0   0   0\n",
      "   0   0   0   0   0   0   0   0   0   0   0   0   0   0   0   0   0   0\n",
      "   0   0   0   0   0   0   0   0   0   0   0   0   0   0   0   0   0   0\n",
      "   0   0   0   0   0   0   0   0   0   0   0   0   0   0   0   0   0   0\n",
      "   0   2  18  46 136 136 244 255 241 103   0   0   0   0   0   0   0   0\n",
      "   0   0   0   0   0   0   0   0   0  15  94 163 253 253 253 253 238 218\n",
      " 204  35   0   0   0   0   0   0   0   0   0   0   0   0   0   0   0   0\n",
      "   0 131 253 253 253 253 237 200  57   0   0   0   0   0   0   0   0   0\n",
      "   0   0   0   0   0   0   0   0   0   0 155 246 253 247 108  65  45   0\n",
      "   0   0   0   0   0   0   0   0   0   0   0   0   0   0   0   0   0   0\n",
      "   0   0 207 253 253 230   0   0   0   0   0   0   0   0   0   0   0   0\n",
      "   0   0   0   0   0   0   0   0   0   0   0   0 157 253 253 125   0   0\n",
      "   0   0   0   0   0   0   0   0   0   0   0   0   0   0   0   0   0   0\n",
      "   0   0   0   0  89 253 250  57   0   0   0   0   0   0   0   0   0   0\n",
      "   0   0   0   0   0   0   0   0   0   0   0   0   0   0  89 253 247   0\n",
      "   0   0   0   0   0   0   0   0   0   0   0   0   0   0   0   0   0   0\n",
      "   0   0   0   0   0   0  89 253 247   0   0   0   0   0   0   0   0   0\n",
      "   0   0   0   0   0   0   0   0   0   0   0   0   0   0   0   0  89 253\n",
      " 247   0   0   0   0   0   0   0   0   0   0   0   0   0   0   0   0   0\n",
      "   0   0   0   0   0   0   0   0  21 231 249  34   0   0   0   0   0   0\n",
      "   0   0   0   0   0   0   0   0   0   0   0   0   0   0   0   0   0   0\n",
      "   0 225 253 231 213 213 123  16   0   0   0   0   0   0   0   0   0   0\n",
      "   0   0   0   0   0   0   0   0   0   0   0 172 253 253 253 253 253 190\n",
      "  63   0   0   0   0   0   0   0   0   0   0   0   0   0   0   0   0   0\n",
      "   0   0   0   2 116  72 124 209 253 253 141   0   0   0   0   0   0   0\n",
      "   0   0   0   0   0   0   0   0   0   0   0   0   0   0   0   0   0  25\n",
      " 219 253 206   3   0   0   0   0   0   0   0   0   0   0   0   0   0   0\n",
      "   0   0   0   0   0   0   0   0   0   0 104 246 253   5   0   0   0   0\n",
      "   0   0   0   0   0   0   0   0   0   0   0   0   0   0   0   0   0   0\n",
      "   0   0   0 213 253   5   0   0   0   0   0   0   0   0   0   0   0   0\n",
      "   0   0   0   0   0   0   0   0   0   0   0   0  26 226 253   5   0   0\n",
      "   0   0   0   0   0   0   0   0   0   0   0   0   0   0   0   0   0   0\n",
      "   0   0   0   0 132 253 209   3   0   0   0   0   0   0   0   0   0   0\n",
      "   0   0   0   0   0   0   0   0   0   0   0   0   0   0  78 253  86   0\n",
      "   0   0   0   0   0   0   0   0   0   0   0   0   0   0   0   0   0   0\n",
      "   0   0   0   0   0   0   0   0   0   0   0   0   0   0   0   0   0   0\n",
      "   0   0   0   0   0   0   0   0   0   0   0   0   0   0   0   0   0   0\n",
      "   0   0   0   0   0   0   0   0   0   0]\n"
     ]
    }
   ],
   "source": [
    "print(x_train[100])"
   ]
  },
  {
   "cell_type": "code",
   "execution_count": 0,
   "metadata": {
    "colab": {},
    "colab_type": "code",
    "id": "Dq6nCdkClJZ4"
   },
   "outputs": [],
   "source": [
    "#Normailzing x_train and x_test.\n",
    "#The maximum value of pixel is 255 and minimum value is 0\n",
    "\n",
    "x_train=(x_train)/255\n",
    "x_test=(x_test)/255"
   ]
  },
  {
   "cell_type": "code",
   "execution_count": 13,
   "metadata": {
    "colab": {
     "base_uri": "https://localhost:8080/",
     "height": 2244
    },
    "colab_type": "code",
    "executionInfo": {
     "elapsed": 1063,
     "status": "ok",
     "timestamp": 1559849820862,
     "user": {
      "displayName": "aniket rajani",
      "photoUrl": "https://lh4.googleusercontent.com/-YW3EVGDzDNk/AAAAAAAAAAI/AAAAAAAAAWc/JIWyh4t_fwc/s64/photo.jpg",
      "userId": "09924859060618605904"
     },
     "user_tz": -330
    },
    "id": "dzg0g3NkliFt",
    "outputId": "26b04c2a-cd10-4501-a84c-855ce5aaea39"
   },
   "outputs": [
    {
     "name": "stdout",
     "output_type": "stream",
     "text": [
      "[0.         0.         0.         0.         0.         0.\n",
      " 0.         0.         0.         0.         0.         0.\n",
      " 0.         0.         0.         0.         0.         0.\n",
      " 0.         0.         0.         0.         0.         0.\n",
      " 0.         0.         0.         0.         0.         0.\n",
      " 0.         0.         0.         0.         0.         0.\n",
      " 0.         0.         0.         0.         0.         0.\n",
      " 0.         0.         0.         0.         0.         0.\n",
      " 0.         0.         0.         0.         0.         0.\n",
      " 0.         0.         0.         0.         0.         0.\n",
      " 0.         0.         0.         0.         0.         0.\n",
      " 0.         0.         0.         0.         0.         0.\n",
      " 0.         0.         0.         0.         0.         0.\n",
      " 0.         0.         0.         0.         0.         0.\n",
      " 0.         0.         0.         0.         0.         0.\n",
      " 0.         0.         0.         0.         0.         0.\n",
      " 0.         0.         0.         0.         0.         0.\n",
      " 0.         0.         0.         0.         0.         0.\n",
      " 0.         0.         0.         0.         0.         0.\n",
      " 0.         0.         0.         0.         0.         0.\n",
      " 0.         0.         0.         0.         0.         0.\n",
      " 0.         0.         0.         0.         0.         0.\n",
      " 0.         0.         0.         0.         0.         0.\n",
      " 0.         0.         0.         0.         0.         0.\n",
      " 0.         0.         0.         0.         0.         0.\n",
      " 0.         0.         0.         0.         0.         0.\n",
      " 0.         0.         0.         0.         0.         0.\n",
      " 0.         0.         0.         0.         0.         0.\n",
      " 0.         0.         0.         0.         0.         0.\n",
      " 0.         0.         0.         0.         0.         0.\n",
      " 0.         0.00784314 0.07058824 0.18039216 0.53333333 0.53333333\n",
      " 0.95686275 1.         0.94509804 0.40392157 0.         0.\n",
      " 0.         0.         0.         0.         0.         0.\n",
      " 0.         0.         0.         0.         0.         0.\n",
      " 0.         0.         0.         0.05882353 0.36862745 0.63921569\n",
      " 0.99215686 0.99215686 0.99215686 0.99215686 0.93333333 0.85490196\n",
      " 0.8        0.1372549  0.         0.         0.         0.\n",
      " 0.         0.         0.         0.         0.         0.\n",
      " 0.         0.         0.         0.         0.         0.\n",
      " 0.         0.51372549 0.99215686 0.99215686 0.99215686 0.99215686\n",
      " 0.92941176 0.78431373 0.22352941 0.         0.         0.\n",
      " 0.         0.         0.         0.         0.         0.\n",
      " 0.         0.         0.         0.         0.         0.\n",
      " 0.         0.         0.         0.         0.60784314 0.96470588\n",
      " 0.99215686 0.96862745 0.42352941 0.25490196 0.17647059 0.\n",
      " 0.         0.         0.         0.         0.         0.\n",
      " 0.         0.         0.         0.         0.         0.\n",
      " 0.         0.         0.         0.         0.         0.\n",
      " 0.         0.         0.81176471 0.99215686 0.99215686 0.90196078\n",
      " 0.         0.         0.         0.         0.         0.\n",
      " 0.         0.         0.         0.         0.         0.\n",
      " 0.         0.         0.         0.         0.         0.\n",
      " 0.         0.         0.         0.         0.         0.\n",
      " 0.61568627 0.99215686 0.99215686 0.49019608 0.         0.\n",
      " 0.         0.         0.         0.         0.         0.\n",
      " 0.         0.         0.         0.         0.         0.\n",
      " 0.         0.         0.         0.         0.         0.\n",
      " 0.         0.         0.         0.         0.34901961 0.99215686\n",
      " 0.98039216 0.22352941 0.         0.         0.         0.\n",
      " 0.         0.         0.         0.         0.         0.\n",
      " 0.         0.         0.         0.         0.         0.\n",
      " 0.         0.         0.         0.         0.         0.\n",
      " 0.         0.         0.34901961 0.99215686 0.96862745 0.\n",
      " 0.         0.         0.         0.         0.         0.\n",
      " 0.         0.         0.         0.         0.         0.\n",
      " 0.         0.         0.         0.         0.         0.\n",
      " 0.         0.         0.         0.         0.         0.\n",
      " 0.34901961 0.99215686 0.96862745 0.         0.         0.\n",
      " 0.         0.         0.         0.         0.         0.\n",
      " 0.         0.         0.         0.         0.         0.\n",
      " 0.         0.         0.         0.         0.         0.\n",
      " 0.         0.         0.         0.         0.34901961 0.99215686\n",
      " 0.96862745 0.         0.         0.         0.         0.\n",
      " 0.         0.         0.         0.         0.         0.\n",
      " 0.         0.         0.         0.         0.         0.\n",
      " 0.         0.         0.         0.         0.         0.\n",
      " 0.         0.         0.08235294 0.90588235 0.97647059 0.13333333\n",
      " 0.         0.         0.         0.         0.         0.\n",
      " 0.         0.         0.         0.         0.         0.\n",
      " 0.         0.         0.         0.         0.         0.\n",
      " 0.         0.         0.         0.         0.         0.\n",
      " 0.         0.88235294 0.99215686 0.90588235 0.83529412 0.83529412\n",
      " 0.48235294 0.0627451  0.         0.         0.         0.\n",
      " 0.         0.         0.         0.         0.         0.\n",
      " 0.         0.         0.         0.         0.         0.\n",
      " 0.         0.         0.         0.         0.         0.6745098\n",
      " 0.99215686 0.99215686 0.99215686 0.99215686 0.99215686 0.74509804\n",
      " 0.24705882 0.         0.         0.         0.         0.\n",
      " 0.         0.         0.         0.         0.         0.\n",
      " 0.         0.         0.         0.         0.         0.\n",
      " 0.         0.         0.         0.00784314 0.45490196 0.28235294\n",
      " 0.48627451 0.81960784 0.99215686 0.99215686 0.55294118 0.\n",
      " 0.         0.         0.         0.         0.         0.\n",
      " 0.         0.         0.         0.         0.         0.\n",
      " 0.         0.         0.         0.         0.         0.\n",
      " 0.         0.         0.         0.         0.         0.09803922\n",
      " 0.85882353 0.99215686 0.80784314 0.01176471 0.         0.\n",
      " 0.         0.         0.         0.         0.         0.\n",
      " 0.         0.         0.         0.         0.         0.\n",
      " 0.         0.         0.         0.         0.         0.\n",
      " 0.         0.         0.         0.         0.40784314 0.96470588\n",
      " 0.99215686 0.01960784 0.         0.         0.         0.\n",
      " 0.         0.         0.         0.         0.         0.\n",
      " 0.         0.         0.         0.         0.         0.\n",
      " 0.         0.         0.         0.         0.         0.\n",
      " 0.         0.         0.         0.83529412 0.99215686 0.01960784\n",
      " 0.         0.         0.         0.         0.         0.\n",
      " 0.         0.         0.         0.         0.         0.\n",
      " 0.         0.         0.         0.         0.         0.\n",
      " 0.         0.         0.         0.         0.         0.\n",
      " 0.10196078 0.88627451 0.99215686 0.01960784 0.         0.\n",
      " 0.         0.         0.         0.         0.         0.\n",
      " 0.         0.         0.         0.         0.         0.\n",
      " 0.         0.         0.         0.         0.         0.\n",
      " 0.         0.         0.         0.         0.51764706 0.99215686\n",
      " 0.81960784 0.01176471 0.         0.         0.         0.\n",
      " 0.         0.         0.         0.         0.         0.\n",
      " 0.         0.         0.         0.         0.         0.\n",
      " 0.         0.         0.         0.         0.         0.\n",
      " 0.         0.         0.30588235 0.99215686 0.3372549  0.\n",
      " 0.         0.         0.         0.         0.         0.\n",
      " 0.         0.         0.         0.         0.         0.\n",
      " 0.         0.         0.         0.         0.         0.\n",
      " 0.         0.         0.         0.         0.         0.\n",
      " 0.         0.         0.         0.         0.         0.\n",
      " 0.         0.         0.         0.         0.         0.\n",
      " 0.         0.         0.         0.         0.         0.\n",
      " 0.         0.         0.         0.         0.         0.\n",
      " 0.         0.         0.         0.         0.         0.\n",
      " 0.         0.         0.         0.         0.         0.\n",
      " 0.         0.         0.         0.        ]\n"
     ]
    }
   ],
   "source": [
    "#After Normalization\n",
    "print(x_train[100])"
   ]
  },
  {
   "cell_type": "code",
   "execution_count": 14,
   "metadata": {
    "colab": {
     "base_uri": "https://localhost:8080/",
     "height": 51
    },
    "colab_type": "code",
    "executionInfo": {
     "elapsed": 1168,
     "status": "ok",
     "timestamp": 1559849830473,
     "user": {
      "displayName": "aniket rajani",
      "photoUrl": "https://lh4.googleusercontent.com/-YW3EVGDzDNk/AAAAAAAAAAI/AAAAAAAAAWc/JIWyh4t_fwc/s64/photo.jpg",
      "userId": "09924859060618605904"
     },
     "user_tz": -330
    },
    "id": "a5gQPwdzll7t",
    "outputId": "1fb25d17-12c6-49bb-a9f7-3d7477ad75e3"
   },
   "outputs": [
    {
     "name": "stdout",
     "output_type": "stream",
     "text": [
      "(60000, 10)\n",
      "(10000, 10)\n"
     ]
    }
   ],
   "source": [
    "#Converting output labels into one hot encoded vector\n",
    "y_train = np_utils.to_categorical(y_train)\n",
    "y_test = np_utils.to_categorical(y_test)\n",
    "\n",
    "print(y_train.shape)\n",
    "print(y_test.shape)"
   ]
  },
  {
   "cell_type": "code",
   "execution_count": 15,
   "metadata": {
    "colab": {
     "base_uri": "https://localhost:8080/",
     "height": 286
    },
    "colab_type": "code",
    "executionInfo": {
     "elapsed": 1236,
     "status": "ok",
     "timestamp": 1559849833585,
     "user": {
      "displayName": "aniket rajani",
      "photoUrl": "https://lh4.googleusercontent.com/-YW3EVGDzDNk/AAAAAAAAAAI/AAAAAAAAAWc/JIWyh4t_fwc/s64/photo.jpg",
      "userId": "09924859060618605904"
     },
     "user_tz": -330
    },
    "id": "Ith5qz3tlv5d",
    "outputId": "e69664a3-cae2-459e-da43-433b4f360e81"
   },
   "outputs": [
    {
     "name": "stdout",
     "output_type": "stream",
     "text": [
      "Label for 10th data point is 3\n"
     ]
    },
    {
     "data": {
      "image/png": "[encoded data removed]",
      "text/plain": [
       "<Figure size 432x288 with 1 Axes>"
      ]
     },
     "metadata": {
      "tags": []
     },
     "output_type": "display_data"
    }
   ],
   "source": [
    "#plotting an image from a matrix\n",
    "import matplotlib.pyplot as plt\n",
    "%matplotlib inline\n",
    "print(\"Label for 10th data point is {0}\".format(np.argmax(y_train[10])))\n",
    "plt.imshow(x_train[10].reshape(28,28),cmap='gray')\n",
    "plt.show()"
   ]
  },
  {
   "cell_type": "code",
   "execution_count": 0,
   "metadata": {
    "colab": {},
    "colab_type": "code",
    "id": "HUMfVOL3m5hL"
   },
   "outputs": [],
   "source": [
    "#Building 2 layer Perceptron\n",
    "\n",
    "from keras.models import Sequential\n",
    "from keras.layers import Dense,Activation"
   ]
  },
  {
   "cell_type": "code",
   "execution_count": 0,
   "metadata": {
    "colab": {},
    "colab_type": "code",
    "id": "olrBmC5dn6G0"
   },
   "outputs": [],
   "source": [
    "output_dim = 10\n",
    "input_dim = x_train.shape[1]\n",
    "\n",
    "batch_size = 128\n",
    "nb_epoch = 25"
   ]
  },
  {
   "cell_type": "markdown",
   "metadata": {
    "colab_type": "text",
    "id": "4dMvM7Crs1fM"
   },
   "source": [
    "Building 2 Layer MLP with Bacth Normalization and Dropout\n",
    "\n",
    "---\n",
    "\n"
   ]
  },
  {
   "cell_type": "code",
   "execution_count": 0,
   "metadata": {
    "colab": {
     "base_uri": "https://localhost:8080/",
     "height": 374
    },
    "colab_type": "code",
    "executionInfo": {
     "elapsed": 1327,
     "status": "ok",
     "timestamp": 1559808309654,
     "user": {
      "displayName": "aniket rajani",
      "photoUrl": "https://lh4.googleusercontent.com/-YW3EVGDzDNk/AAAAAAAAAAI/AAAAAAAAAWc/JIWyh4t_fwc/s64/photo.jpg",
      "userId": "09924859060618605904"
     },
     "user_tz": -330
    },
    "id": "sdJfcqeUsTJF",
    "outputId": "4e3d70d0-2055-409e-d704-4d5d13424257"
   },
   "outputs": [
    {
     "name": "stdout",
     "output_type": "stream",
     "text": [
      "_________________________________________________________________\n",
      "Layer (type)                 Output Shape              Param #   \n",
      "=================================================================\n",
      "dense_12 (Dense)             (None, 374)               293590    \n",
      "_________________________________________________________________\n",
      "batch_normalization_6 (Batch (None, 374)               1496      \n",
      "_________________________________________________________________\n",
      "dropout_6 (Dropout)          (None, 374)               0         \n",
      "_________________________________________________________________\n",
      "dense_13 (Dense)             (None, 50)                18750     \n",
      "_________________________________________________________________\n",
      "batch_normalization_7 (Batch (None, 50)                200       \n",
      "_________________________________________________________________\n",
      "dropout_7 (Dropout)          (None, 50)                0         \n",
      "_________________________________________________________________\n",
      "dense_14 (Dense)             (None, 10)                510       \n",
      "=================================================================\n",
      "Total params: 314,546\n",
      "Trainable params: 313,698\n",
      "Non-trainable params: 848\n",
      "_________________________________________________________________\n"
     ]
    }
   ],
   "source": [
    "#Building a model\n",
    "#Designing the Architecture of Neural Network\n",
    "from keras.layers.normalization import BatchNormalization\n",
    "from keras.layers import Dropout\n",
    "from keras.initializers import he_normal\n",
    "\n",
    "model_2=Sequential()\n",
    "model_2.add(Dense(374, activation='relu', input_shape=(input_dim,), kernel_initializer=he_normal(seed=None)))\n",
    "model_2.add(BatchNormalization())\n",
    "model_2.add(Dropout(0.5))\n",
    "\n",
    "model_2.add(Dense(50, activation='relu', kernel_initializer=he_normal(seed=None)))\n",
    "model_2.add(BatchNormalization())\n",
    "model_2.add(Dropout(0.5))\n",
    "            \n",
    "model_2.add(Dense(output_dim, activation='softmax'))\n",
    "model_2.summary()"
   ]
  },
  {
   "cell_type": "code",
   "execution_count": 0,
   "metadata": {
    "colab": {
     "base_uri": "https://localhost:8080/",
     "height": 884
    },
    "colab_type": "code",
    "executionInfo": {
     "elapsed": 128498,
     "status": "ok",
     "timestamp": 1559808443085,
     "user": {
      "displayName": "aniket rajani",
      "photoUrl": "https://lh4.googleusercontent.com/-YW3EVGDzDNk/AAAAAAAAAAI/AAAAAAAAAWc/JIWyh4t_fwc/s64/photo.jpg",
      "userId": "09924859060618605904"
     },
     "user_tz": -330
    },
    "id": "rJcg5y-AttUX",
    "outputId": "1a368225-56ba-4354-a3e1-bceb8823478f"
   },
   "outputs": [
    {
     "name": "stdout",
     "output_type": "stream",
     "text": [
      "Train on 60000 samples, validate on 10000 samples\n",
      "Epoch 1/25\n",
      "60000/60000 [==============================] - 6s 102us/step - loss: 0.5467 - acc: 0.8373 - val_loss: 0.1704 - val_acc: 0.9469\n",
      "Epoch 2/25\n",
      "60000/60000 [==============================] - 5s 82us/step - loss: 0.2605 - acc: 0.9257 - val_loss: 0.1257 - val_acc: 0.9592\n",
      "Epoch 3/25\n",
      "60000/60000 [==============================] - 5s 83us/step - loss: 0.2073 - acc: 0.9408 - val_loss: 0.1098 - val_acc: 0.9673\n",
      "Epoch 4/25\n",
      "60000/60000 [==============================] - 5s 81us/step - loss: 0.1757 - acc: 0.9490 - val_loss: 0.0915 - val_acc: 0.9725\n",
      "Epoch 5/25\n",
      "60000/60000 [==============================] - 5s 81us/step - loss: 0.1540 - acc: 0.9550 - val_loss: 0.0837 - val_acc: 0.9728\n",
      "Epoch 6/25\n",
      "60000/60000 [==============================] - 5s 83us/step - loss: 0.1384 - acc: 0.9595 - val_loss: 0.0884 - val_acc: 0.9725\n",
      "Epoch 7/25\n",
      "60000/60000 [==============================] - 5s 81us/step - loss: 0.1319 - acc: 0.9618 - val_loss: 0.0759 - val_acc: 0.9756\n",
      "Epoch 8/25\n",
      "60000/60000 [==============================] - 5s 82us/step - loss: 0.1239 - acc: 0.9636 - val_loss: 0.0734 - val_acc: 0.9777\n",
      "Epoch 9/25\n",
      "60000/60000 [==============================] - 5s 81us/step - loss: 0.1162 - acc: 0.9656 - val_loss: 0.0727 - val_acc: 0.9783\n",
      "Epoch 10/25\n",
      "60000/60000 [==============================] - 5s 85us/step - loss: 0.1066 - acc: 0.9681 - val_loss: 0.0671 - val_acc: 0.9806\n",
      "Epoch 11/25\n",
      "60000/60000 [==============================] - 5s 86us/step - loss: 0.1003 - acc: 0.9709 - val_loss: 0.0689 - val_acc: 0.9801\n",
      "Epoch 12/25\n",
      "60000/60000 [==============================] - 5s 90us/step - loss: 0.0977 - acc: 0.9715 - val_loss: 0.0700 - val_acc: 0.9796\n",
      "Epoch 13/25\n",
      "60000/60000 [==============================] - 5s 87us/step - loss: 0.0929 - acc: 0.9723 - val_loss: 0.0699 - val_acc: 0.9798\n",
      "Epoch 14/25\n",
      "60000/60000 [==============================] - 5s 87us/step - loss: 0.0904 - acc: 0.9727 - val_loss: 0.0672 - val_acc: 0.9807\n",
      "Epoch 15/25\n",
      "60000/60000 [==============================] - 5s 85us/step - loss: 0.0875 - acc: 0.9740 - val_loss: 0.0656 - val_acc: 0.9818\n",
      "Epoch 16/25\n",
      "60000/60000 [==============================] - 5s 83us/step - loss: 0.0857 - acc: 0.9742 - val_loss: 0.0649 - val_acc: 0.9815\n",
      "Epoch 17/25\n",
      "60000/60000 [==============================] - 5s 83us/step - loss: 0.0837 - acc: 0.9757 - val_loss: 0.0643 - val_acc: 0.9818\n",
      "Epoch 18/25\n",
      "60000/60000 [==============================] - 5s 82us/step - loss: 0.0774 - acc: 0.9764 - val_loss: 0.0646 - val_acc: 0.9824\n",
      "Epoch 19/25\n",
      "60000/60000 [==============================] - 5s 81us/step - loss: 0.0758 - acc: 0.9773 - val_loss: 0.0657 - val_acc: 0.9818\n",
      "Epoch 20/25\n",
      "60000/60000 [==============================] - 5s 84us/step - loss: 0.0715 - acc: 0.9780 - val_loss: 0.0624 - val_acc: 0.9818\n",
      "Epoch 21/25\n",
      "60000/60000 [==============================] - 5s 87us/step - loss: 0.0751 - acc: 0.9777 - val_loss: 0.0638 - val_acc: 0.9827\n",
      "Epoch 22/25\n",
      "60000/60000 [==============================] - 5s 88us/step - loss: 0.0715 - acc: 0.9780 - val_loss: 0.0619 - val_acc: 0.9821\n",
      "Epoch 23/25\n",
      "60000/60000 [==============================] - 5s 85us/step - loss: 0.0676 - acc: 0.9791 - val_loss: 0.0608 - val_acc: 0.9826\n",
      "Epoch 24/25\n",
      "60000/60000 [==============================] - 5s 85us/step - loss: 0.0654 - acc: 0.9796 - val_loss: 0.0622 - val_acc: 0.9824\n",
      "Epoch 25/25\n",
      "60000/60000 [==============================] - 5s 82us/step - loss: 0.0621 - acc: 0.9809 - val_loss: 0.0654 - val_acc: 0.9830\n"
     ]
    }
   ],
   "source": [
    "model_2.compile(optimizer='adam', loss='categorical_crossentropy', metrics=['accuracy'])\n",
    "history = model_2.fit(x_train, y_train, batch_size=batch_size, epochs=nb_epoch, verbose=1, validation_data=(x_test, y_test))"
   ]
  },
  {
   "cell_type": "code",
   "execution_count": 0,
   "metadata": {
    "colab": {
     "base_uri": "https://localhost:8080/",
     "height": 317
    },
    "colab_type": "code",
    "executionInfo": {
     "elapsed": 1651,
     "status": "ok",
     "timestamp": 1559808447904,
     "user": {
      "displayName": "aniket rajani",
      "photoUrl": "https://lh4.googleusercontent.com/-YW3EVGDzDNk/AAAAAAAAAAI/AAAAAAAAAWc/JIWyh4t_fwc/s64/photo.jpg",
      "userId": "09924859060618605904"
     },
     "user_tz": -330
    },
    "id": "EEEoQ8JYqBEC",
    "outputId": "84c0191b-e55e-40e1-a130-fd409742b4cd"
   },
   "outputs": [
    {
     "name": "stdout",
     "output_type": "stream",
     "text": [
      "Test score: 0.06540877195581561\n",
      "Test accuracy: 0.983\n"
     ]
    },
    {
     "data": {
      "image/png": "[encoded data removed]",
      "text/plain": [
       "<Figure size 432x288 with 1 Axes>"
      ]
     },
     "metadata": {
      "tags": []
     },
     "output_type": "display_data"
    }
   ],
   "source": [
    "score = model_2.evaluate(x_test, y_test, verbose=0) \n",
    "print('Test score:', score[0]) \n",
    "print('Test accuracy:', score[1])\n",
    "\n",
    "fig,ax = plt.subplots(1,1)\n",
    "ax.set_xlabel('epoch') ; ax.set_ylabel('Categorical Crossentropy Loss')\n",
    "\n",
    "# list of epoch numbers\n",
    "x = list(range(1,nb_epoch+1))\n",
    "\n",
    "#Training loss\n",
    "vy = history.history['val_loss']\n",
    "ty = history.history['loss']\n",
    "plt_dynamic(x, vy, ty, ax)"
   ]
  },
  {
   "cell_type": "code",
   "execution_count": 26,
   "metadata": {
    "colab": {
     "base_uri": "https://localhost:8080/",
     "height": 374
    },
    "colab_type": "code",
    "executionInfo": {
     "elapsed": 1099,
     "status": "ok",
     "timestamp": 1559850317744,
     "user": {
      "displayName": "aniket rajani",
      "photoUrl": "https://lh4.googleusercontent.com/-YW3EVGDzDNk/AAAAAAAAAAI/AAAAAAAAAWc/JIWyh4t_fwc/s64/photo.jpg",
      "userId": "09924859060618605904"
     },
     "user_tz": -330
    },
    "id": "ZvhwfWubUKFi",
    "outputId": "50e90642-e5f9-4d8a-fc81-cdf9bd98b98b"
   },
   "outputs": [
    {
     "name": "stdout",
     "output_type": "stream",
     "text": [
      "_________________________________________________________________\n",
      "Layer (type)                 Output Shape              Param #   \n",
      "=================================================================\n",
      "dense_11 (Dense)             (None, 374)               293590    \n",
      "_________________________________________________________________\n",
      "batch_normalization_10 (Batc (None, 374)               1496      \n",
      "_________________________________________________________________\n",
      "dropout_10 (Dropout)         (None, 374)               0         \n",
      "_________________________________________________________________\n",
      "dense_12 (Dense)             (None, 50)                18750     \n",
      "_________________________________________________________________\n",
      "batch_normalization_11 (Batc (None, 50)                200       \n",
      "_________________________________________________________________\n",
      "dropout_11 (Dropout)         (None, 50)                0         \n",
      "_________________________________________________________________\n",
      "dense_13 (Dense)             (None, 10)                510       \n",
      "=================================================================\n",
      "Total params: 314,546\n",
      "Trainable params: 313,698\n",
      "Non-trainable params: 848\n",
      "_________________________________________________________________\n"
     ]
    }
   ],
   "source": [
    "#Building a model\n",
    "#Designing the Architecture of Neural Network\n",
    "from keras.layers.normalization import BatchNormalization\n",
    "from keras.layers import Dropout\n",
    "from keras.initializers import he_normal\n",
    "\n",
    "model_2_dr=Sequential()\n",
    "model_2_dr.add(Dense(374, activation='relu', input_shape=(input_dim,), kernel_initializer=he_normal(seed=None)))\n",
    "model_2_dr.add(BatchNormalization())\n",
    "model_2_dr.add(Dropout(0.2))\n",
    "\n",
    "model_2_dr.add(Dense(50, activation='relu', kernel_initializer=he_normal(seed=None)))\n",
    "model_2_dr.add(BatchNormalization())\n",
    "model_2_dr.add(Dropout(0.2))\n",
    "            \n",
    "model_2_dr.add(Dense(output_dim, activation='softmax'))\n",
    "model_2_dr.summary()"
   ]
  },
  {
   "cell_type": "code",
   "execution_count": 27,
   "metadata": {
    "colab": {
     "base_uri": "https://localhost:8080/",
     "height": 884
    },
    "colab_type": "code",
    "executionInfo": {
     "elapsed": 185951,
     "status": "ok",
     "timestamp": 1559850530700,
     "user": {
      "displayName": "aniket rajani",
      "photoUrl": "https://lh4.googleusercontent.com/-YW3EVGDzDNk/AAAAAAAAAAI/AAAAAAAAAWc/JIWyh4t_fwc/s64/photo.jpg",
      "userId": "09924859060618605904"
     },
     "user_tz": -330
    },
    "id": "ugwvaQiZUwPg",
    "outputId": "cc92fb5d-f076-41c1-fec5-7af8b0cde041"
   },
   "outputs": [
    {
     "name": "stdout",
     "output_type": "stream",
     "text": [
      "Train on 60000 samples, validate on 10000 samples\n",
      "Epoch 1/25\n",
      "60000/60000 [==============================] - 8s 139us/step - loss: 0.3062 - acc: 0.9116 - val_loss: 0.1234 - val_acc: 0.9619\n",
      "Epoch 2/25\n",
      "60000/60000 [==============================] - 7s 121us/step - loss: 0.1336 - acc: 0.9604 - val_loss: 0.0867 - val_acc: 0.9723\n",
      "Epoch 3/25\n",
      "60000/60000 [==============================] - 7s 117us/step - loss: 0.0995 - acc: 0.9698 - val_loss: 0.0801 - val_acc: 0.9744\n",
      "Epoch 4/25\n",
      "60000/60000 [==============================] - 7s 119us/step - loss: 0.0806 - acc: 0.9752 - val_loss: 0.0710 - val_acc: 0.9790\n",
      "Epoch 5/25\n",
      "60000/60000 [==============================] - 7s 119us/step - loss: 0.0662 - acc: 0.9799 - val_loss: 0.0692 - val_acc: 0.9779\n",
      "Epoch 6/25\n",
      "60000/60000 [==============================] - 7s 121us/step - loss: 0.0604 - acc: 0.9809 - val_loss: 0.0647 - val_acc: 0.9785\n",
      "Epoch 7/25\n",
      "60000/60000 [==============================] - 7s 122us/step - loss: 0.0532 - acc: 0.9826 - val_loss: 0.0657 - val_acc: 0.9801\n",
      "Epoch 8/25\n",
      "60000/60000 [==============================] - 7s 123us/step - loss: 0.0469 - acc: 0.9847 - val_loss: 0.0641 - val_acc: 0.9816\n",
      "Epoch 9/25\n",
      "60000/60000 [==============================] - 7s 124us/step - loss: 0.0453 - acc: 0.9858 - val_loss: 0.0600 - val_acc: 0.9809\n",
      "Epoch 10/25\n",
      "60000/60000 [==============================] - 7s 123us/step - loss: 0.0400 - acc: 0.9866 - val_loss: 0.0597 - val_acc: 0.9821\n",
      "Epoch 11/25\n",
      "60000/60000 [==============================] - 7s 125us/step - loss: 0.0359 - acc: 0.9883 - val_loss: 0.0556 - val_acc: 0.9835\n",
      "Epoch 12/25\n",
      "60000/60000 [==============================] - 8s 125us/step - loss: 0.0358 - acc: 0.9882 - val_loss: 0.0609 - val_acc: 0.9822\n",
      "Epoch 13/25\n",
      "60000/60000 [==============================] - 8s 125us/step - loss: 0.0318 - acc: 0.9896 - val_loss: 0.0603 - val_acc: 0.9818\n",
      "Epoch 14/25\n",
      "60000/60000 [==============================] - 7s 124us/step - loss: 0.0296 - acc: 0.9902 - val_loss: 0.0602 - val_acc: 0.9832\n",
      "Epoch 15/25\n",
      "60000/60000 [==============================] - 7s 123us/step - loss: 0.0305 - acc: 0.9897 - val_loss: 0.0599 - val_acc: 0.9818\n",
      "Epoch 16/25\n",
      "60000/60000 [==============================] - 7s 122us/step - loss: 0.0272 - acc: 0.9905 - val_loss: 0.0606 - val_acc: 0.9825\n",
      "Epoch 17/25\n",
      "60000/60000 [==============================] - 7s 124us/step - loss: 0.0269 - acc: 0.9912 - val_loss: 0.0636 - val_acc: 0.9823\n",
      "Epoch 18/25\n",
      "60000/60000 [==============================] - 7s 124us/step - loss: 0.0274 - acc: 0.9909 - val_loss: 0.0558 - val_acc: 0.9843\n",
      "Epoch 19/25\n",
      "60000/60000 [==============================] - 7s 123us/step - loss: 0.0246 - acc: 0.9917 - val_loss: 0.0634 - val_acc: 0.9835\n",
      "Epoch 20/25\n",
      "60000/60000 [==============================] - 7s 122us/step - loss: 0.0219 - acc: 0.9925 - val_loss: 0.0591 - val_acc: 0.9842\n",
      "Epoch 21/25\n",
      "60000/60000 [==============================] - 7s 122us/step - loss: 0.0229 - acc: 0.9925 - val_loss: 0.0602 - val_acc: 0.9833\n",
      "Epoch 22/25\n",
      "60000/60000 [==============================] - 7s 122us/step - loss: 0.0239 - acc: 0.9917 - val_loss: 0.0550 - val_acc: 0.9849\n",
      "Epoch 23/25\n",
      "60000/60000 [==============================] - 7s 122us/step - loss: 0.0193 - acc: 0.9936 - val_loss: 0.0565 - val_acc: 0.9847\n",
      "Epoch 24/25\n",
      "60000/60000 [==============================] - 7s 122us/step - loss: 0.0200 - acc: 0.9933 - val_loss: 0.0549 - val_acc: 0.9848\n",
      "Epoch 25/25\n",
      "60000/60000 [==============================] - 7s 121us/step - loss: 0.0205 - acc: 0.9929 - val_loss: 0.0598 - val_acc: 0.9838\n"
     ]
    }
   ],
   "source": [
    "model_2_dr.compile(optimizer='adam', loss='categorical_crossentropy', metrics=['accuracy'])\n",
    "history = model_2_dr.fit(x_train, y_train, batch_size=batch_size, epochs=nb_epoch, verbose=1, validation_data=(x_test, y_test))"
   ]
  },
  {
   "cell_type": "code",
   "execution_count": 29,
   "metadata": {
    "colab": {
     "base_uri": "https://localhost:8080/",
     "height": 317
    },
    "colab_type": "code",
    "executionInfo": {
     "elapsed": 2934,
     "status": "ok",
     "timestamp": 1559850540401,
     "user": {
      "displayName": "aniket rajani",
      "photoUrl": "https://lh4.googleusercontent.com/-YW3EVGDzDNk/AAAAAAAAAAI/AAAAAAAAAWc/JIWyh4t_fwc/s64/photo.jpg",
      "userId": "09924859060618605904"
     },
     "user_tz": -330
    },
    "id": "bqqyWP3LU3Sc",
    "outputId": "af04f053-1075-45c1-8573-19cb3ac0d048"
   },
   "outputs": [
    {
     "name": "stdout",
     "output_type": "stream",
     "text": [
      "Test score: 0.05975274081545213\n",
      "Test accuracy: 0.9838\n"
     ]
    },
    {
     "data": {
      "image/png": "[encoded data removed]",
      "text/plain": [
       "<Figure size 432x288 with 1 Axes>"
      ]
     },
     "metadata": {
      "tags": []
     },
     "output_type": "display_data"
    }
   ],
   "source": [
    "score = model_2_dr.evaluate(x_test, y_test, verbose=0) \n",
    "print('Test score:', score[0]) \n",
    "print('Test accuracy:', score[1])\n",
    "\n",
    "fig,ax = plt.subplots(1,1)\n",
    "ax.set_xlabel('epoch') ; ax.set_ylabel('Categorical Crossentropy Loss')\n",
    "\n",
    "# list of epoch numbers\n",
    "x = list(range(1,nb_epoch+1))\n",
    "\n",
    "#Training loss\n",
    "vy = history.history['val_loss']\n",
    "ty = history.history['loss']\n",
    "plt_dynamic(x, vy, ty, ax)"
   ]
  },
  {
   "cell_type": "code",
   "execution_count": 0,
   "metadata": {
    "colab": {
     "base_uri": "https://localhost:8080/",
     "height": 238
    },
    "colab_type": "code",
    "executionInfo": {
     "elapsed": 1273,
     "status": "ok",
     "timestamp": 1559808466903,
     "user": {
      "displayName": "aniket rajani",
      "photoUrl": "https://lh4.googleusercontent.com/-YW3EVGDzDNk/AAAAAAAAAAI/AAAAAAAAAWc/JIWyh4t_fwc/s64/photo.jpg",
      "userId": "09924859060618605904"
     },
     "user_tz": -330
    },
    "id": "0VeII223wH0G",
    "outputId": "22523ed1-7065-4a52-c1f3-5eec997fe9c4"
   },
   "outputs": [
    {
     "name": "stdout",
     "output_type": "stream",
     "text": [
      "_________________________________________________________________\n",
      "Layer (type)                 Output Shape              Param #   \n",
      "=================================================================\n",
      "dense_15 (Dense)             (None, 374)               293590    \n",
      "_________________________________________________________________\n",
      "dense_16 (Dense)             (None, 50)                18750     \n",
      "_________________________________________________________________\n",
      "dense_17 (Dense)             (None, 10)                510       \n",
      "=================================================================\n",
      "Total params: 312,850\n",
      "Trainable params: 312,850\n",
      "Non-trainable params: 0\n",
      "_________________________________________________________________\n"
     ]
    }
   ],
   "source": [
    "#Without Dropout and BatchNormalization\n",
    "from keras.layers.normalization import BatchNormalization\n",
    "from keras.layers import Dropout\n",
    "from keras.initializers import he_normal\n",
    "\n",
    "model_2_we=Sequential()\n",
    "model_2_we.add(Dense(374, activation='relu', input_shape=(input_dim,), kernel_initializer=he_normal(seed=None)))\n",
    "\n",
    "model_2_we.add(Dense(50, activation='relu',kernel_initializer=he_normal(seed=None)))\n",
    "            \n",
    "model_2_we.add(Dense(output_dim, activation='softmax'))\n",
    "model_2_we.summary()"
   ]
  },
  {
   "cell_type": "code",
   "execution_count": 0,
   "metadata": {
    "colab": {
     "base_uri": "https://localhost:8080/",
     "height": 884
    },
    "colab_type": "code",
    "executionInfo": {
     "elapsed": 99856,
     "status": "ok",
     "timestamp": 1559808569936,
     "user": {
      "displayName": "aniket rajani",
      "photoUrl": "https://lh4.googleusercontent.com/-YW3EVGDzDNk/AAAAAAAAAAI/AAAAAAAAAWc/JIWyh4t_fwc/s64/photo.jpg",
      "userId": "09924859060618605904"
     },
     "user_tz": -330
    },
    "id": "rq6L1V6DzZ7I",
    "outputId": "3ce746a3-c67f-4203-d3ff-1c72c587d35c"
   },
   "outputs": [
    {
     "name": "stdout",
     "output_type": "stream",
     "text": [
      "Train on 60000 samples, validate on 10000 samples\n",
      "Epoch 1/25\n",
      "60000/60000 [==============================] - 5s 82us/step - loss: 0.2745 - acc: 0.9214 - val_loss: 0.1304 - val_acc: 0.9612\n",
      "Epoch 2/25\n",
      "60000/60000 [==============================] - 4s 67us/step - loss: 0.1058 - acc: 0.9687 - val_loss: 0.0907 - val_acc: 0.9719\n",
      "Epoch 3/25\n",
      "60000/60000 [==============================] - 4s 66us/step - loss: 0.0692 - acc: 0.9790 - val_loss: 0.0791 - val_acc: 0.9742\n",
      "Epoch 4/25\n",
      "60000/60000 [==============================] - 4s 65us/step - loss: 0.0485 - acc: 0.9846 - val_loss: 0.0755 - val_acc: 0.9775\n",
      "Epoch 5/25\n",
      "60000/60000 [==============================] - 4s 63us/step - loss: 0.0353 - acc: 0.9895 - val_loss: 0.0698 - val_acc: 0.9784\n",
      "Epoch 6/25\n",
      "60000/60000 [==============================] - 4s 65us/step - loss: 0.0274 - acc: 0.9913 - val_loss: 0.0698 - val_acc: 0.9793\n",
      "Epoch 7/25\n",
      "60000/60000 [==============================] - 4s 66us/step - loss: 0.0183 - acc: 0.9946 - val_loss: 0.0663 - val_acc: 0.9802\n",
      "Epoch 8/25\n",
      "60000/60000 [==============================] - 4s 65us/step - loss: 0.0170 - acc: 0.9947 - val_loss: 0.0674 - val_acc: 0.9811\n",
      "Epoch 9/25\n",
      "60000/60000 [==============================] - 4s 64us/step - loss: 0.0144 - acc: 0.9956 - val_loss: 0.0709 - val_acc: 0.9795\n",
      "Epoch 10/25\n",
      "60000/60000 [==============================] - 4s 65us/step - loss: 0.0110 - acc: 0.9965 - val_loss: 0.0752 - val_acc: 0.9803\n",
      "Epoch 11/25\n",
      "60000/60000 [==============================] - 4s 64us/step - loss: 0.0089 - acc: 0.9974 - val_loss: 0.0770 - val_acc: 0.9800\n",
      "Epoch 12/25\n",
      "60000/60000 [==============================] - 4s 65us/step - loss: 0.0074 - acc: 0.9980 - val_loss: 0.0985 - val_acc: 0.9759\n",
      "Epoch 13/25\n",
      "60000/60000 [==============================] - 4s 64us/step - loss: 0.0127 - acc: 0.9957 - val_loss: 0.0821 - val_acc: 0.9799\n",
      "Epoch 14/25\n",
      "60000/60000 [==============================] - 4s 65us/step - loss: 0.0095 - acc: 0.9970 - val_loss: 0.0880 - val_acc: 0.9798\n",
      "Epoch 15/25\n",
      "60000/60000 [==============================] - 4s 63us/step - loss: 0.0077 - acc: 0.9975 - val_loss: 0.0774 - val_acc: 0.9816\n",
      "Epoch 16/25\n",
      "60000/60000 [==============================] - 4s 64us/step - loss: 0.0054 - acc: 0.9984 - val_loss: 0.1063 - val_acc: 0.9770\n",
      "Epoch 17/25\n",
      "60000/60000 [==============================] - 4s 66us/step - loss: 0.0072 - acc: 0.9976 - val_loss: 0.0813 - val_acc: 0.9797\n",
      "Epoch 18/25\n",
      "60000/60000 [==============================] - 4s 66us/step - loss: 0.0084 - acc: 0.9970 - val_loss: 0.0923 - val_acc: 0.9784\n",
      "Epoch 19/25\n",
      "60000/60000 [==============================] - 4s 65us/step - loss: 0.0075 - acc: 0.9976 - val_loss: 0.0844 - val_acc: 0.9809\n",
      "Epoch 20/25\n",
      "60000/60000 [==============================] - 4s 64us/step - loss: 0.0051 - acc: 0.9985 - val_loss: 0.0919 - val_acc: 0.9819\n",
      "Epoch 21/25\n",
      "60000/60000 [==============================] - 4s 66us/step - loss: 0.0035 - acc: 0.9991 - val_loss: 0.1039 - val_acc: 0.9782\n",
      "Epoch 22/25\n",
      "60000/60000 [==============================] - 4s 65us/step - loss: 0.0083 - acc: 0.9973 - val_loss: 0.0850 - val_acc: 0.9827\n",
      "Epoch 23/25\n",
      "60000/60000 [==============================] - 4s 63us/step - loss: 0.0068 - acc: 0.9980 - val_loss: 0.0987 - val_acc: 0.9797\n",
      "Epoch 24/25\n",
      "60000/60000 [==============================] - 4s 64us/step - loss: 0.0042 - acc: 0.9988 - val_loss: 0.0859 - val_acc: 0.9817\n",
      "Epoch 25/25\n",
      "60000/60000 [==============================] - 4s 65us/step - loss: 0.0027 - acc: 0.9992 - val_loss: 0.0852 - val_acc: 0.9820\n"
     ]
    }
   ],
   "source": [
    "model_2_we.compile(optimizer='adam', loss='categorical_crossentropy', metrics=['accuracy'])\n",
    "history = model_2_we.fit(x_train, y_train, batch_size=batch_size, epochs=nb_epoch, verbose=1, validation_data=(x_test, y_test))"
   ]
  },
  {
   "cell_type": "code",
   "execution_count": 0,
   "metadata": {
    "colab": {
     "base_uri": "https://localhost:8080/",
     "height": 317
    },
    "colab_type": "code",
    "executionInfo": {
     "elapsed": 2236,
     "status": "ok",
     "timestamp": 1559808581971,
     "user": {
      "displayName": "aniket rajani",
      "photoUrl": "https://lh4.googleusercontent.com/-YW3EVGDzDNk/AAAAAAAAAAI/AAAAAAAAAWc/JIWyh4t_fwc/s64/photo.jpg",
      "userId": "09924859060618605904"
     },
     "user_tz": -330
    },
    "id": "nmNXWTICzn1A",
    "outputId": "a9f0021c-d178-4308-9a0c-dcf3901c2259"
   },
   "outputs": [
    {
     "name": "stdout",
     "output_type": "stream",
     "text": [
      "Test score: 0.08522433322680553\n",
      "Test accuracy: 0.982\n"
     ]
    },
    {
     "data": {
      "image/png": "[encoded data removed]",
      "text/plain": [
       "<Figure size 432x288 with 1 Axes>"
      ]
     },
     "metadata": {
      "tags": []
     },
     "output_type": "display_data"
    }
   ],
   "source": [
    "score = model_2_we.evaluate(x_test, y_test, verbose=0) \n",
    "print('Test score:', score[0]) \n",
    "print('Test accuracy:', score[1])\n",
    "\n",
    "fig,ax = plt.subplots(1,1)\n",
    "ax.set_xlabel('epoch') ; ax.set_ylabel('Categorical Crossentropy Loss')\n",
    "\n",
    "# list of epoch numbers\n",
    "x = list(range(1,nb_epoch+1))\n",
    "\n",
    "#Training loss\n",
    "vy = history.history['val_loss']\n",
    "ty = history.history['loss']\n",
    "plt_dynamic(x, vy, ty, ax)"
   ]
  },
  {
   "cell_type": "code",
   "execution_count": 0,
   "metadata": {
    "colab": {
     "base_uri": "https://localhost:8080/",
     "height": 476
    },
    "colab_type": "code",
    "executionInfo": {
     "elapsed": 1342,
     "status": "ok",
     "timestamp": 1559808635103,
     "user": {
      "displayName": "aniket rajani",
      "photoUrl": "https://lh4.googleusercontent.com/-YW3EVGDzDNk/AAAAAAAAAAI/AAAAAAAAAWc/JIWyh4t_fwc/s64/photo.jpg",
      "userId": "09924859060618605904"
     },
     "user_tz": -330
    },
    "id": "cpu6oG2W0Bhd",
    "outputId": "97f300ca-738b-4186-8a0b-d1790d81c78d"
   },
   "outputs": [
    {
     "name": "stdout",
     "output_type": "stream",
     "text": [
      "_________________________________________________________________\n",
      "Layer (type)                 Output Shape              Param #   \n",
      "=================================================================\n",
      "dense_18 (Dense)             (None, 256)               200960    \n",
      "_________________________________________________________________\n",
      "batch_normalization_8 (Batch (None, 256)               1024      \n",
      "_________________________________________________________________\n",
      "dropout_8 (Dropout)          (None, 256)               0         \n",
      "_________________________________________________________________\n",
      "dense_19 (Dense)             (None, 64)                16448     \n",
      "_________________________________________________________________\n",
      "batch_normalization_9 (Batch (None, 64)                256       \n",
      "_________________________________________________________________\n",
      "dropout_9 (Dropout)          (None, 64)                0         \n",
      "_________________________________________________________________\n",
      "dense_20 (Dense)             (None, 32)                2080      \n",
      "_________________________________________________________________\n",
      "batch_normalization_10 (Batc (None, 32)                128       \n",
      "_________________________________________________________________\n",
      "dropout_10 (Dropout)         (None, 32)                0         \n",
      "_________________________________________________________________\n",
      "dense_21 (Dense)             (None, 10)                330       \n",
      "=================================================================\n",
      "Total params: 221,226\n",
      "Trainable params: 220,522\n",
      "Non-trainable params: 704\n",
      "_________________________________________________________________\n"
     ]
    }
   ],
   "source": [
    "#Building a model\n",
    "#Designing the Architecture of Neural Network\n",
    "from keras.layers.normalization import BatchNormalization\n",
    "from keras.layers import Dropout\n",
    "from keras.initializers import he_normal\n",
    "\n",
    "model_3=Sequential()\n",
    "model_3.add(Dense(256, activation='relu', input_shape=(input_dim,), kernel_initializer=he_normal(seed=None)))\n",
    "model_3.add(BatchNormalization())\n",
    "model_3.add(Dropout(0.5))\n",
    "\n",
    "model_3.add(Dense(64, activation='relu', kernel_initializer=he_normal(seed=None)))\n",
    "model_3.add(BatchNormalization())\n",
    "model_3.add(Dropout(0.5))\n",
    "\n",
    "model_3.add(Dense(32, activation='relu', kernel_initializer=he_normal(seed=None)))\n",
    "model_3.add(BatchNormalization())\n",
    "model_3.add(Dropout(0.5))\n",
    "\n",
    "model_3.add(Dense(output_dim, activation='softmax'))\n",
    "model_3.summary()"
   ]
  },
  {
   "cell_type": "code",
   "execution_count": 0,
   "metadata": {
    "colab": {
     "base_uri": "https://localhost:8080/",
     "height": 884
    },
    "colab_type": "code",
    "executionInfo": {
     "elapsed": 106649,
     "status": "ok",
     "timestamp": 1559808839070,
     "user": {
      "displayName": "aniket rajani",
      "photoUrl": "https://lh4.googleusercontent.com/-YW3EVGDzDNk/AAAAAAAAAAI/AAAAAAAAAWc/JIWyh4t_fwc/s64/photo.jpg",
      "userId": "09924859060618605904"
     },
     "user_tz": -330
    },
    "id": "4yKmgPWj1ur7",
    "outputId": "9b13457f-d754-44de-e6ef-d7f2166d5f06"
   },
   "outputs": [
    {
     "name": "stdout",
     "output_type": "stream",
     "text": [
      "Train on 60000 samples, validate on 10000 samples\n",
      "Epoch 1/25\n",
      "60000/60000 [==============================] - 6s 100us/step - loss: 1.0184 - acc: 0.6800 - val_loss: 0.2643 - val_acc: 0.9241\n",
      "Epoch 2/25\n",
      "60000/60000 [==============================] - 4s 71us/step - loss: 0.4749 - acc: 0.8680 - val_loss: 0.1767 - val_acc: 0.9487\n",
      "Epoch 3/25\n",
      "60000/60000 [==============================] - 4s 72us/step - loss: 0.3527 - acc: 0.9053 - val_loss: 0.1424 - val_acc: 0.9596\n",
      "Epoch 4/25\n",
      "60000/60000 [==============================] - 4s 72us/step - loss: 0.2996 - acc: 0.9223 - val_loss: 0.1294 - val_acc: 0.9636\n",
      "Epoch 5/25\n",
      "60000/60000 [==============================] - 4s 74us/step - loss: 0.2606 - acc: 0.9326 - val_loss: 0.1155 - val_acc: 0.9680\n",
      "Epoch 6/25\n",
      "60000/60000 [==============================] - 4s 73us/step - loss: 0.2350 - acc: 0.9397 - val_loss: 0.1088 - val_acc: 0.9699\n",
      "Epoch 7/25\n",
      "60000/60000 [==============================] - 4s 69us/step - loss: 0.2198 - acc: 0.9440 - val_loss: 0.1039 - val_acc: 0.9708\n",
      "Epoch 8/25\n",
      "60000/60000 [==============================] - 4s 66us/step - loss: 0.2043 - acc: 0.9478 - val_loss: 0.0975 - val_acc: 0.9728\n",
      "Epoch 9/25\n",
      "60000/60000 [==============================] - 4s 66us/step - loss: 0.1995 - acc: 0.9495 - val_loss: 0.1041 - val_acc: 0.9727\n",
      "Epoch 10/25\n",
      "60000/60000 [==============================] - 4s 66us/step - loss: 0.1874 - acc: 0.9522 - val_loss: 0.0931 - val_acc: 0.9750\n",
      "Epoch 11/25\n",
      "60000/60000 [==============================] - 4s 68us/step - loss: 0.1787 - acc: 0.9545 - val_loss: 0.0894 - val_acc: 0.9765\n",
      "Epoch 12/25\n",
      "60000/60000 [==============================] - 4s 66us/step - loss: 0.1719 - acc: 0.9566 - val_loss: 0.0871 - val_acc: 0.9769\n",
      "Epoch 13/25\n",
      "60000/60000 [==============================] - 4s 67us/step - loss: 0.1587 - acc: 0.9596 - val_loss: 0.0874 - val_acc: 0.9761\n",
      "Epoch 14/25\n",
      "60000/60000 [==============================] - 4s 71us/step - loss: 0.1580 - acc: 0.9600 - val_loss: 0.0786 - val_acc: 0.9782\n",
      "Epoch 15/25\n",
      "60000/60000 [==============================] - 4s 72us/step - loss: 0.1498 - acc: 0.9620 - val_loss: 0.0826 - val_acc: 0.9782\n",
      "Epoch 16/25\n",
      "60000/60000 [==============================] - 4s 68us/step - loss: 0.1471 - acc: 0.9630 - val_loss: 0.0784 - val_acc: 0.9801\n",
      "Epoch 17/25\n",
      "60000/60000 [==============================] - 4s 68us/step - loss: 0.1443 - acc: 0.9638 - val_loss: 0.0818 - val_acc: 0.9791\n",
      "Epoch 18/25\n",
      "60000/60000 [==============================] - 4s 67us/step - loss: 0.1401 - acc: 0.9647 - val_loss: 0.0827 - val_acc: 0.9781\n",
      "Epoch 19/25\n",
      "60000/60000 [==============================] - 4s 68us/step - loss: 0.1343 - acc: 0.9655 - val_loss: 0.0777 - val_acc: 0.9791\n",
      "Epoch 20/25\n",
      "60000/60000 [==============================] - 4s 66us/step - loss: 0.1304 - acc: 0.9669 - val_loss: 0.0800 - val_acc: 0.9801\n",
      "Epoch 21/25\n",
      "60000/60000 [==============================] - 4s 66us/step - loss: 0.1291 - acc: 0.9670 - val_loss: 0.0785 - val_acc: 0.9796\n",
      "Epoch 22/25\n",
      "60000/60000 [==============================] - 4s 69us/step - loss: 0.1270 - acc: 0.9677 - val_loss: 0.0823 - val_acc: 0.9799\n",
      "Epoch 23/25\n",
      "60000/60000 [==============================] - 4s 70us/step - loss: 0.1219 - acc: 0.9689 - val_loss: 0.0783 - val_acc: 0.9795\n",
      "Epoch 24/25\n",
      "60000/60000 [==============================] - 4s 68us/step - loss: 0.1186 - acc: 0.9687 - val_loss: 0.0813 - val_acc: 0.9787\n",
      "Epoch 25/25\n",
      "60000/60000 [==============================] - 4s 67us/step - loss: 0.1170 - acc: 0.9698 - val_loss: 0.0761 - val_acc: 0.9806\n"
     ]
    }
   ],
   "source": [
    "model_3.compile(optimizer='adam', loss='categorical_crossentropy', metrics=['accuracy'])\n",
    "history_3 = model_3.fit(x_train, y_train, batch_size=batch_size, epochs=nb_epoch, verbose=1, validation_data=(x_test, y_test))"
   ]
  },
  {
   "cell_type": "code",
   "execution_count": 0,
   "metadata": {
    "colab": {
     "base_uri": "https://localhost:8080/",
     "height": 317
    },
    "colab_type": "code",
    "executionInfo": {
     "elapsed": 1951,
     "status": "ok",
     "timestamp": 1559808859075,
     "user": {
      "displayName": "aniket rajani",
      "photoUrl": "https://lh4.googleusercontent.com/-YW3EVGDzDNk/AAAAAAAAAAI/AAAAAAAAAWc/JIWyh4t_fwc/s64/photo.jpg",
      "userId": "09924859060618605904"
     },
     "user_tz": -330
    },
    "id": "BmhCnjvw2GuM",
    "outputId": "a88d0d87-a0e2-459f-8a72-e402be30128a"
   },
   "outputs": [
    {
     "name": "stdout",
     "output_type": "stream",
     "text": [
      "Test score: 0.07612645023153164\n",
      "Test accuracy: 0.9806\n"
     ]
    },
    {
     "data": {
      "image/png": "[encoded data removed]",
      "text/plain": [
       "<Figure size 432x288 with 1 Axes>"
      ]
     },
     "metadata": {
      "tags": []
     },
     "output_type": "display_data"
    }
   ],
   "source": [
    "score = model_3.evaluate(x_test, y_test, verbose=0) \n",
    "print('Test score:', score[0]) \n",
    "print('Test accuracy:', score[1])\n",
    "\n",
    "fig,ax = plt.subplots(1,1)\n",
    "ax.set_xlabel('epoch') ; ax.set_ylabel('Categorical Crossentropy Loss')\n",
    "\n",
    "# list of epoch numbers\n",
    "x = list(range(1,nb_epoch+1))\n",
    "\n",
    "#Training loss\n",
    "vy = history_3.history['val_loss']\n",
    "ty = history_3.history['loss']\n",
    "plt_dynamic(x, vy, ty, ax)"
   ]
  },
  {
   "cell_type": "code",
   "execution_count": 22,
   "metadata": {
    "colab": {
     "base_uri": "https://localhost:8080/",
     "height": 476
    },
    "colab_type": "code",
    "executionInfo": {
     "elapsed": 1310,
     "status": "ok",
     "timestamp": 1559850102168,
     "user": {
      "displayName": "aniket rajani",
      "photoUrl": "https://lh4.googleusercontent.com/-YW3EVGDzDNk/AAAAAAAAAAI/AAAAAAAAAWc/JIWyh4t_fwc/s64/photo.jpg",
      "userId": "09924859060618605904"
     },
     "user_tz": -330
    },
    "id": "Y4v6t6oQTA1j",
    "outputId": "1a346e03-5d8f-4bb6-e5db-096c8c05b7f4"
   },
   "outputs": [
    {
     "name": "stdout",
     "output_type": "stream",
     "text": [
      "_________________________________________________________________\n",
      "Layer (type)                 Output Shape              Param #   \n",
      "=================================================================\n",
      "dense_7 (Dense)              (None, 256)               200960    \n",
      "_________________________________________________________________\n",
      "batch_normalization_7 (Batch (None, 256)               1024      \n",
      "_________________________________________________________________\n",
      "dropout_7 (Dropout)          (None, 256)               0         \n",
      "_________________________________________________________________\n",
      "dense_8 (Dense)              (None, 64)                16448     \n",
      "_________________________________________________________________\n",
      "batch_normalization_8 (Batch (None, 64)                256       \n",
      "_________________________________________________________________\n",
      "dropout_8 (Dropout)          (None, 64)                0         \n",
      "_________________________________________________________________\n",
      "dense_9 (Dense)              (None, 32)                2080      \n",
      "_________________________________________________________________\n",
      "batch_normalization_9 (Batch (None, 32)                128       \n",
      "_________________________________________________________________\n",
      "dropout_9 (Dropout)          (None, 32)                0         \n",
      "_________________________________________________________________\n",
      "dense_10 (Dense)             (None, 10)                330       \n",
      "=================================================================\n",
      "Total params: 221,226\n",
      "Trainable params: 220,522\n",
      "Non-trainable params: 704\n",
      "_________________________________________________________________\n"
     ]
    }
   ],
   "source": [
    "#Dropout rate=0.2\n",
    "\n",
    "from keras.layers.normalization import BatchNormalization\n",
    "from keras.layers import Dropout\n",
    "from keras.initializers import he_normal\n",
    "\n",
    "model_3_dr=Sequential()\n",
    "model_3_dr.add(Dense(256, activation='relu', input_shape=(input_dim,), kernel_initializer=he_normal(seed=None)))\n",
    "model_3_dr.add(BatchNormalization())\n",
    "model_3_dr.add(Dropout(0.2))\n",
    "\n",
    "model_3_dr.add(Dense(64, activation='relu', kernel_initializer=he_normal(seed=None)))\n",
    "model_3_dr.add(BatchNormalization())\n",
    "model_3_dr.add(Dropout(0.2))\n",
    "\n",
    "model_3_dr.add(Dense(32, activation='relu', kernel_initializer=he_normal(seed=None)))\n",
    "model_3_dr.add(BatchNormalization())\n",
    "model_3_dr.add(Dropout(0.2))\n",
    "\n",
    "model_3_dr.add(Dense(output_dim, activation='softmax'))\n",
    "model_3_dr.summary()"
   ]
  },
  {
   "cell_type": "code",
   "execution_count": 23,
   "metadata": {
    "colab": {
     "base_uri": "https://localhost:8080/",
     "height": 955
    },
    "colab_type": "code",
    "executionInfo": {
     "elapsed": 160697,
     "status": "ok",
     "timestamp": 1559850266623,
     "user": {
      "displayName": "aniket rajani",
      "photoUrl": "https://lh4.googleusercontent.com/-YW3EVGDzDNk/AAAAAAAAAAI/AAAAAAAAAWc/JIWyh4t_fwc/s64/photo.jpg",
      "userId": "09924859060618605904"
     },
     "user_tz": -330
    },
    "id": "n_S__fIeTa-v",
    "outputId": "9303492b-ded4-4dd7-cf95-c6049b0fa6b6"
   },
   "outputs": [
    {
     "name": "stdout",
     "output_type": "stream",
     "text": [
      "WARNING:tensorflow:From /usr/local/lib/python3.6/dist-packages/tensorflow/python/ops/math_ops.py:3066: to_int32 (from tensorflow.python.ops.math_ops) is deprecated and will be removed in a future version.\n",
      "Instructions for updating:\n",
      "Use tf.cast instead.\n",
      "Train on 60000 samples, validate on 10000 samples\n",
      "Epoch 1/25\n",
      "60000/60000 [==============================] - 8s 137us/step - loss: 0.4607 - acc: 0.8699 - val_loss: 0.1439 - val_acc: 0.9562\n",
      "Epoch 2/25\n",
      "60000/60000 [==============================] - 6s 106us/step - loss: 0.1816 - acc: 0.9479 - val_loss: 0.1046 - val_acc: 0.9689\n",
      "Epoch 3/25\n",
      "60000/60000 [==============================] - 6s 104us/step - loss: 0.1406 - acc: 0.9583 - val_loss: 0.0933 - val_acc: 0.9700\n",
      "Epoch 4/25\n",
      "60000/60000 [==============================] - 6s 106us/step - loss: 0.1156 - acc: 0.9657 - val_loss: 0.0903 - val_acc: 0.9710\n",
      "Epoch 5/25\n",
      "60000/60000 [==============================] - 6s 107us/step - loss: 0.1004 - acc: 0.9709 - val_loss: 0.0821 - val_acc: 0.9746\n",
      "Epoch 6/25\n",
      "60000/60000 [==============================] - 6s 107us/step - loss: 0.0877 - acc: 0.9741 - val_loss: 0.0766 - val_acc: 0.9762\n",
      "Epoch 7/25\n",
      "60000/60000 [==============================] - 6s 103us/step - loss: 0.0760 - acc: 0.9771 - val_loss: 0.0751 - val_acc: 0.9773\n",
      "Epoch 8/25\n",
      "60000/60000 [==============================] - 6s 105us/step - loss: 0.0703 - acc: 0.9790 - val_loss: 0.0752 - val_acc: 0.9773\n",
      "Epoch 9/25\n",
      "60000/60000 [==============================] - 6s 101us/step - loss: 0.0659 - acc: 0.9798 - val_loss: 0.0732 - val_acc: 0.9789\n",
      "Epoch 10/25\n",
      "60000/60000 [==============================] - 6s 103us/step - loss: 0.0598 - acc: 0.9814 - val_loss: 0.0671 - val_acc: 0.9798\n",
      "Epoch 11/25\n",
      "60000/60000 [==============================] - 6s 101us/step - loss: 0.0592 - acc: 0.9819 - val_loss: 0.0680 - val_acc: 0.9818\n",
      "Epoch 12/25\n",
      "60000/60000 [==============================] - 6s 105us/step - loss: 0.0549 - acc: 0.9827 - val_loss: 0.0678 - val_acc: 0.9815\n",
      "Epoch 13/25\n",
      "60000/60000 [==============================] - 6s 105us/step - loss: 0.0513 - acc: 0.9839 - val_loss: 0.0802 - val_acc: 0.9792\n",
      "Epoch 14/25\n",
      "60000/60000 [==============================] - 6s 104us/step - loss: 0.0476 - acc: 0.9850 - val_loss: 0.0755 - val_acc: 0.9796\n",
      "Epoch 15/25\n",
      "60000/60000 [==============================] - 6s 103us/step - loss: 0.0467 - acc: 0.9853 - val_loss: 0.0712 - val_acc: 0.9815\n",
      "Epoch 16/25\n",
      "60000/60000 [==============================] - 6s 103us/step - loss: 0.0413 - acc: 0.9872 - val_loss: 0.0724 - val_acc: 0.9809\n",
      "Epoch 17/25\n",
      "60000/60000 [==============================] - 6s 104us/step - loss: 0.0407 - acc: 0.9870 - val_loss: 0.0659 - val_acc: 0.9829\n",
      "Epoch 18/25\n",
      "60000/60000 [==============================] - 6s 104us/step - loss: 0.0411 - acc: 0.9873 - val_loss: 0.0698 - val_acc: 0.9819\n",
      "Epoch 19/25\n",
      "60000/60000 [==============================] - 6s 104us/step - loss: 0.0386 - acc: 0.9880 - val_loss: 0.0683 - val_acc: 0.9816\n",
      "Epoch 20/25\n",
      "60000/60000 [==============================] - 6s 106us/step - loss: 0.0357 - acc: 0.9887 - val_loss: 0.0668 - val_acc: 0.9821\n",
      "Epoch 21/25\n",
      "60000/60000 [==============================] - 6s 101us/step - loss: 0.0329 - acc: 0.9896 - val_loss: 0.0672 - val_acc: 0.9835\n",
      "Epoch 22/25\n",
      "60000/60000 [==============================] - 7s 109us/step - loss: 0.0311 - acc: 0.9898 - val_loss: 0.0647 - val_acc: 0.9816\n",
      "Epoch 23/25\n",
      "60000/60000 [==============================] - 6s 106us/step - loss: 0.0318 - acc: 0.9902 - val_loss: 0.0699 - val_acc: 0.9816\n",
      "Epoch 24/25\n",
      "60000/60000 [==============================] - 6s 104us/step - loss: 0.0315 - acc: 0.9902 - val_loss: 0.0626 - val_acc: 0.9844\n",
      "Epoch 25/25\n",
      "60000/60000 [==============================] - 6s 103us/step - loss: 0.0305 - acc: 0.9906 - val_loss: 0.0634 - val_acc: 0.9839\n"
     ]
    }
   ],
   "source": [
    "model_3_dr.compile(optimizer='adam', loss='categorical_crossentropy', metrics=['accuracy'])\n",
    "history_3 = model_3_dr.fit(x_train, y_train, batch_size=batch_size, epochs=nb_epoch, verbose=1, validation_data=(x_test, y_test))"
   ]
  },
  {
   "cell_type": "code",
   "execution_count": 25,
   "metadata": {
    "colab": {
     "base_uri": "https://localhost:8080/",
     "height": 317
    },
    "colab_type": "code",
    "executionInfo": {
     "elapsed": 1881,
     "status": "ok",
     "timestamp": 1559850276465,
     "user": {
      "displayName": "aniket rajani",
      "photoUrl": "https://lh4.googleusercontent.com/-YW3EVGDzDNk/AAAAAAAAAAI/AAAAAAAAAWc/JIWyh4t_fwc/s64/photo.jpg",
      "userId": "09924859060618605904"
     },
     "user_tz": -330
    },
    "id": "tlqToOaUT9wL",
    "outputId": "07fe15fc-5545-4160-fd29-e97076b13a16"
   },
   "outputs": [
    {
     "name": "stdout",
     "output_type": "stream",
     "text": [
      "Test score: 0.06336924908877117\n",
      "Test accuracy: 0.9839\n"
     ]
    },
    {
     "data": {
      "image/png": "[encoded data removed]",
      "text/plain": [
       "<Figure size 432x288 with 1 Axes>"
      ]
     },
     "metadata": {
      "tags": []
     },
     "output_type": "display_data"
    }
   ],
   "source": [
    "score = model_3_dr.evaluate(x_test, y_test, verbose=0) \n",
    "print('Test score:', score[0]) \n",
    "print('Test accuracy:', score[1])\n",
    "\n",
    "fig,ax = plt.subplots(1,1)\n",
    "ax.set_xlabel('epoch') ; ax.set_ylabel('Categorical Crossentropy Loss')\n",
    "\n",
    "# list of epoch numbers\n",
    "x = list(range(1,nb_epoch+1))\n",
    "\n",
    "#Training loss\n",
    "vy = history_3.history['val_loss']\n",
    "ty = history_3.history['loss']\n",
    "plt_dynamic(x, vy, ty, ax)"
   ]
  },
  {
   "cell_type": "code",
   "execution_count": 0,
   "metadata": {
    "colab": {
     "base_uri": "https://localhost:8080/",
     "height": 272
    },
    "colab_type": "code",
    "executionInfo": {
     "elapsed": 993,
     "status": "ok",
     "timestamp": 1559808976322,
     "user": {
      "displayName": "aniket rajani",
      "photoUrl": "https://lh4.googleusercontent.com/-YW3EVGDzDNk/AAAAAAAAAAI/AAAAAAAAAWc/JIWyh4t_fwc/s64/photo.jpg",
      "userId": "09924859060618605904"
     },
     "user_tz": -330
    },
    "id": "QeAlbbRs2lNP",
    "outputId": "52faa568-26bf-4716-c6cc-0a242c7b63e1"
   },
   "outputs": [
    {
     "name": "stdout",
     "output_type": "stream",
     "text": [
      "_________________________________________________________________\n",
      "Layer (type)                 Output Shape              Param #   \n",
      "=================================================================\n",
      "dense_22 (Dense)             (None, 256)               200960    \n",
      "_________________________________________________________________\n",
      "dense_23 (Dense)             (None, 64)                16448     \n",
      "_________________________________________________________________\n",
      "dense_24 (Dense)             (None, 32)                2080      \n",
      "_________________________________________________________________\n",
      "dense_25 (Dense)             (None, 10)                330       \n",
      "=================================================================\n",
      "Total params: 219,818\n",
      "Trainable params: 219,818\n",
      "Non-trainable params: 0\n",
      "_________________________________________________________________\n"
     ]
    }
   ],
   "source": [
    "from keras.layers.normalization import BatchNormalization\n",
    "from keras.layers import Dropout\n",
    "from keras.initializers import he_normal\n",
    "\n",
    "model_3_we=Sequential()\n",
    "model_3_we.add(Dense(256, activation='relu', input_shape=(input_dim,), kernel_initializer=he_normal(seed=None)))\n",
    "\n",
    "model_3_we.add(Dense(64, activation='relu', kernel_initializer=he_normal(seed=None)))\n",
    "\n",
    "model_3_we.add(Dense(32, activation='relu', kernel_initializer=he_normal(seed=None)))\n",
    "\n",
    "\n",
    "        \n",
    "model_3_we.add(Dense(output_dim, activation='softmax'))\n",
    "model_3_we.summary()"
   ]
  },
  {
   "cell_type": "code",
   "execution_count": 0,
   "metadata": {
    "colab": {
     "base_uri": "https://localhost:8080/",
     "height": 884
    },
    "colab_type": "code",
    "executionInfo": {
     "elapsed": 82405,
     "status": "ok",
     "timestamp": 1559809129621,
     "user": {
      "displayName": "aniket rajani",
      "photoUrl": "https://lh4.googleusercontent.com/-YW3EVGDzDNk/AAAAAAAAAAI/AAAAAAAAAWc/JIWyh4t_fwc/s64/photo.jpg",
      "userId": "09924859060618605904"
     },
     "user_tz": -330
    },
    "id": "xU4pPPFf3AzQ",
    "outputId": "e9ae60b9-d04e-4398-d539-0cc28c3a5ef0"
   },
   "outputs": [
    {
     "name": "stdout",
     "output_type": "stream",
     "text": [
      "Train on 60000 samples, validate on 10000 samples\n",
      "Epoch 1/25\n",
      "60000/60000 [==============================] - 5s 78us/step - loss: 0.3040 - acc: 0.9103 - val_loss: 0.1337 - val_acc: 0.9619\n",
      "Epoch 2/25\n",
      "60000/60000 [==============================] - 3s 54us/step - loss: 0.1126 - acc: 0.9660 - val_loss: 0.0952 - val_acc: 0.9692\n",
      "Epoch 3/25\n",
      "60000/60000 [==============================] - 3s 53us/step - loss: 0.0725 - acc: 0.9775 - val_loss: 0.0905 - val_acc: 0.9726\n",
      "Epoch 4/25\n",
      "60000/60000 [==============================] - 3s 52us/step - loss: 0.0531 - acc: 0.9839 - val_loss: 0.0741 - val_acc: 0.9783\n",
      "Epoch 5/25\n",
      "60000/60000 [==============================] - 3s 54us/step - loss: 0.0401 - acc: 0.9876 - val_loss: 0.0825 - val_acc: 0.9761\n",
      "Epoch 6/25\n",
      "60000/60000 [==============================] - 3s 55us/step - loss: 0.0304 - acc: 0.9906 - val_loss: 0.0901 - val_acc: 0.9741\n",
      "Epoch 7/25\n",
      "60000/60000 [==============================] - 3s 55us/step - loss: 0.0256 - acc: 0.9918 - val_loss: 0.0788 - val_acc: 0.9778\n",
      "Epoch 8/25\n",
      "60000/60000 [==============================] - 3s 54us/step - loss: 0.0207 - acc: 0.9933 - val_loss: 0.0794 - val_acc: 0.9782\n",
      "Epoch 9/25\n",
      "60000/60000 [==============================] - 3s 51us/step - loss: 0.0161 - acc: 0.9951 - val_loss: 0.0729 - val_acc: 0.9805\n",
      "Epoch 10/25\n",
      "60000/60000 [==============================] - 3s 51us/step - loss: 0.0137 - acc: 0.9955 - val_loss: 0.0938 - val_acc: 0.9763\n",
      "Epoch 11/25\n",
      "60000/60000 [==============================] - 3s 51us/step - loss: 0.0151 - acc: 0.9950 - val_loss: 0.0866 - val_acc: 0.9790\n",
      "Epoch 12/25\n",
      "60000/60000 [==============================] - 3s 53us/step - loss: 0.0109 - acc: 0.9964 - val_loss: 0.1016 - val_acc: 0.9772\n",
      "Epoch 13/25\n",
      "60000/60000 [==============================] - 3s 52us/step - loss: 0.0134 - acc: 0.9953 - val_loss: 0.1017 - val_acc: 0.9772\n",
      "Epoch 14/25\n",
      "60000/60000 [==============================] - 3s 52us/step - loss: 0.0109 - acc: 0.9967 - val_loss: 0.1060 - val_acc: 0.9757\n",
      "Epoch 15/25\n",
      "60000/60000 [==============================] - 3s 53us/step - loss: 0.0112 - acc: 0.9962 - val_loss: 0.0986 - val_acc: 0.9800\n",
      "Epoch 16/25\n",
      "60000/60000 [==============================] - 3s 51us/step - loss: 0.0095 - acc: 0.9968 - val_loss: 0.1032 - val_acc: 0.9786\n",
      "Epoch 17/25\n",
      "60000/60000 [==============================] - 3s 52us/step - loss: 0.0092 - acc: 0.9969 - val_loss: 0.1045 - val_acc: 0.9776\n",
      "Epoch 18/25\n",
      "60000/60000 [==============================] - 3s 54us/step - loss: 0.0067 - acc: 0.9977 - val_loss: 0.1001 - val_acc: 0.9797\n",
      "Epoch 19/25\n",
      "60000/60000 [==============================] - 3s 54us/step - loss: 0.0083 - acc: 0.9975 - val_loss: 0.1152 - val_acc: 0.9773\n",
      "Epoch 20/25\n",
      "60000/60000 [==============================] - 3s 54us/step - loss: 0.0079 - acc: 0.9974 - val_loss: 0.1167 - val_acc: 0.9788\n",
      "Epoch 21/25\n",
      "60000/60000 [==============================] - 3s 53us/step - loss: 0.0074 - acc: 0.9975 - val_loss: 0.1087 - val_acc: 0.9799\n",
      "Epoch 22/25\n",
      "60000/60000 [==============================] - 3s 55us/step - loss: 0.0108 - acc: 0.9966 - val_loss: 0.0955 - val_acc: 0.9805\n",
      "Epoch 23/25\n",
      "60000/60000 [==============================] - 3s 53us/step - loss: 0.0072 - acc: 0.9976 - val_loss: 0.1135 - val_acc: 0.9801\n",
      "Epoch 24/25\n",
      "60000/60000 [==============================] - 3s 54us/step - loss: 0.0042 - acc: 0.9987 - val_loss: 0.1097 - val_acc: 0.9789\n",
      "Epoch 25/25\n",
      "60000/60000 [==============================] - 3s 55us/step - loss: 0.0065 - acc: 0.9979 - val_loss: 0.1072 - val_acc: 0.9799\n"
     ]
    }
   ],
   "source": [
    "model_3_we.compile(optimizer='adam', loss='categorical_crossentropy', metrics=['accuracy'])\n",
    "history_3_we = model_3_we.fit(x_train, y_train, batch_size=batch_size, epochs=nb_epoch, verbose=1, validation_data=(x_test, y_test))"
   ]
  },
  {
   "cell_type": "code",
   "execution_count": 0,
   "metadata": {
    "colab": {
     "base_uri": "https://localhost:8080/",
     "height": 317
    },
    "colab_type": "code",
    "executionInfo": {
     "elapsed": 1768,
     "status": "ok",
     "timestamp": 1559809170154,
     "user": {
      "displayName": "aniket rajani",
      "photoUrl": "https://lh4.googleusercontent.com/-YW3EVGDzDNk/AAAAAAAAAAI/AAAAAAAAAWc/JIWyh4t_fwc/s64/photo.jpg",
      "userId": "09924859060618605904"
     },
     "user_tz": -330
    },
    "id": "vvfi73OB3OzO",
    "outputId": "e11d19c8-4a13-4674-f126-5eaa81000e9b"
   },
   "outputs": [
    {
     "name": "stdout",
     "output_type": "stream",
     "text": [
      "Test score: 0.10719894685190826\n",
      "Test accuracy: 0.9799\n"
     ]
    },
    {
     "data": {
      "image/png": "[encoded data removed]",
      "text/plain": [
       "<Figure size 432x288 with 1 Axes>"
      ]
     },
     "metadata": {
      "tags": []
     },
     "output_type": "display_data"
    }
   ],
   "source": [
    "score = model_3_we.evaluate(x_test, y_test, verbose=0) \n",
    "print('Test score:', score[0]) \n",
    "print('Test accuracy:', score[1])\n",
    "\n",
    "fig,ax = plt.subplots(1,1)\n",
    "ax.set_xlabel('epoch') ; ax.set_ylabel('Categorical Crossentropy Loss')\n",
    "\n",
    "# list of epoch numbers\n",
    "x = list(range(1,nb_epoch+1))\n",
    "\n",
    "#Training loss\n",
    "vy = history_3_we.history['val_loss']\n",
    "ty = history_3_we.history['loss']\n",
    "plt_dynamic(x, vy, ty, ax)"
   ]
  },
  {
   "cell_type": "code",
   "execution_count": 0,
   "metadata": {
    "colab": {
     "base_uri": "https://localhost:8080/",
     "height": 680
    },
    "colab_type": "code",
    "executionInfo": {
     "elapsed": 2111,
     "status": "ok",
     "timestamp": 1559809357609,
     "user": {
      "displayName": "aniket rajani",
      "photoUrl": "https://lh4.googleusercontent.com/-YW3EVGDzDNk/AAAAAAAAAAI/AAAAAAAAAWc/JIWyh4t_fwc/s64/photo.jpg",
      "userId": "09924859060618605904"
     },
     "user_tz": -330
    },
    "id": "1ZeypArA3xMz",
    "outputId": "83c992a0-58d1-4ed2-f70a-5925dbca9448"
   },
   "outputs": [
    {
     "name": "stdout",
     "output_type": "stream",
     "text": [
      "_________________________________________________________________\n",
      "Layer (type)                 Output Shape              Param #   \n",
      "=================================================================\n",
      "dense_26 (Dense)             (None, 512)               401920    \n",
      "_________________________________________________________________\n",
      "batch_normalization_11 (Batc (None, 512)               2048      \n",
      "_________________________________________________________________\n",
      "dropout_11 (Dropout)         (None, 512)               0         \n",
      "_________________________________________________________________\n",
      "dense_27 (Dense)             (None, 256)               131328    \n",
      "_________________________________________________________________\n",
      "batch_normalization_12 (Batc (None, 256)               1024      \n",
      "_________________________________________________________________\n",
      "dropout_12 (Dropout)         (None, 256)               0         \n",
      "_________________________________________________________________\n",
      "dense_28 (Dense)             (None, 64)                16448     \n",
      "_________________________________________________________________\n",
      "batch_normalization_13 (Batc (None, 64)                256       \n",
      "_________________________________________________________________\n",
      "dropout_13 (Dropout)         (None, 64)                0         \n",
      "_________________________________________________________________\n",
      "dense_29 (Dense)             (None, 32)                2080      \n",
      "_________________________________________________________________\n",
      "batch_normalization_14 (Batc (None, 32)                128       \n",
      "_________________________________________________________________\n",
      "dropout_14 (Dropout)         (None, 32)                0         \n",
      "_________________________________________________________________\n",
      "dense_30 (Dense)             (None, 16)                528       \n",
      "_________________________________________________________________\n",
      "batch_normalization_15 (Batc (None, 16)                64        \n",
      "_________________________________________________________________\n",
      "dropout_15 (Dropout)         (None, 16)                0         \n",
      "_________________________________________________________________\n",
      "dense_31 (Dense)             (None, 10)                170       \n",
      "=================================================================\n",
      "Total params: 555,994\n",
      "Trainable params: 554,234\n",
      "Non-trainable params: 1,760\n",
      "_________________________________________________________________\n"
     ]
    }
   ],
   "source": [
    "#Building a model\n",
    "#Designing the Architecture of Neural Network\n",
    "from keras.layers.normalization import BatchNormalization\n",
    "from keras.layers import Dropout\n",
    "from keras.initializers import he_normal\n",
    "\n",
    "model_5=Sequential()\n",
    "model_5.add(Dense(512, activation='relu', input_shape=(input_dim,), kernel_initializer=he_normal(seed=None)))\n",
    "model_5.add(BatchNormalization())\n",
    "model_5.add(Dropout(0.5))\n",
    "\n",
    "model_5.add(Dense(256, activation='relu',kernel_initializer=he_normal(seed=None)))\n",
    "model_5.add(BatchNormalization())\n",
    "model_5.add(Dropout(0.5))\n",
    "\n",
    "\n",
    "model_5.add(Dense(64, activation='relu', kernel_initializer=he_normal(seed=None)))\n",
    "model_5.add(BatchNormalization())\n",
    "model_5.add(Dropout(0.5))\n",
    "\n",
    "model_5.add(Dense(32, activation='relu', kernel_initializer=he_normal(seed=None)))\n",
    "model_5.add(BatchNormalization())\n",
    "model_5.add(Dropout(0.5))\n",
    "\n",
    "model_5.add(Dense(16, activation='relu', kernel_initializer=he_normal(seed=None)))\n",
    "model_5.add(BatchNormalization())\n",
    "model_5.add(Dropout(0.5))\n",
    "        \n",
    "model_5.add(Dense(output_dim, activation='softmax'))\n",
    "model_5.summary()"
   ]
  },
  {
   "cell_type": "code",
   "execution_count": 0,
   "metadata": {
    "colab": {
     "base_uri": "https://localhost:8080/",
     "height": 884
    },
    "colab_type": "code",
    "executionInfo": {
     "elapsed": 239256,
     "status": "ok",
     "timestamp": 1559809640486,
     "user": {
      "displayName": "aniket rajani",
      "photoUrl": "https://lh4.googleusercontent.com/-YW3EVGDzDNk/AAAAAAAAAAI/AAAAAAAAAWc/JIWyh4t_fwc/s64/photo.jpg",
      "userId": "09924859060618605904"
     },
     "user_tz": -330
    },
    "id": "mfoi7nQd4e4S",
    "outputId": "c61fd95c-4361-4a03-e001-52b29716c7c9"
   },
   "outputs": [
    {
     "name": "stdout",
     "output_type": "stream",
     "text": [
      "Train on 60000 samples, validate on 10000 samples\n",
      "Epoch 1/25\n",
      "60000/60000 [==============================] - 12s 194us/step - loss: 1.7465 - acc: 0.3925 - val_loss: 0.6385 - val_acc: 0.8838\n",
      "Epoch 2/25\n",
      "60000/60000 [==============================] - 9s 155us/step - loss: 0.9926 - acc: 0.6653 - val_loss: 0.3366 - val_acc: 0.9172\n",
      "Epoch 3/25\n",
      "60000/60000 [==============================] - 9s 157us/step - loss: 0.7279 - acc: 0.7703 - val_loss: 0.2217 - val_acc: 0.9459\n",
      "Epoch 4/25\n",
      "60000/60000 [==============================] - 9s 153us/step - loss: 0.5828 - acc: 0.8243 - val_loss: 0.1745 - val_acc: 0.9561\n",
      "Epoch 5/25\n",
      "60000/60000 [==============================] - 10s 158us/step - loss: 0.5156 - acc: 0.8506 - val_loss: 0.1464 - val_acc: 0.9635\n",
      "Epoch 6/25\n",
      "60000/60000 [==============================] - 9s 155us/step - loss: 0.4516 - acc: 0.8709 - val_loss: 0.1358 - val_acc: 0.9666\n",
      "Epoch 7/25\n",
      "60000/60000 [==============================] - 9s 153us/step - loss: 0.4233 - acc: 0.8830 - val_loss: 0.1328 - val_acc: 0.9682\n",
      "Epoch 8/25\n",
      "60000/60000 [==============================] - 9s 150us/step - loss: 0.3858 - acc: 0.8908 - val_loss: 0.1211 - val_acc: 0.9729\n",
      "Epoch 9/25\n",
      "60000/60000 [==============================] - 9s 152us/step - loss: 0.3765 - acc: 0.8956 - val_loss: 0.1216 - val_acc: 0.9718\n",
      "Epoch 10/25\n",
      "60000/60000 [==============================] - 9s 152us/step - loss: 0.3619 - acc: 0.9001 - val_loss: 0.1135 - val_acc: 0.9747\n",
      "Epoch 11/25\n",
      "60000/60000 [==============================] - 9s 155us/step - loss: 0.3403 - acc: 0.9044 - val_loss: 0.1077 - val_acc: 0.9763\n",
      "Epoch 12/25\n",
      "60000/60000 [==============================] - 9s 156us/step - loss: 0.3364 - acc: 0.9069 - val_loss: 0.1121 - val_acc: 0.9768\n",
      "Epoch 13/25\n",
      "60000/60000 [==============================] - 9s 154us/step - loss: 0.3231 - acc: 0.9121 - val_loss: 0.1018 - val_acc: 0.9782\n",
      "Epoch 14/25\n",
      "60000/60000 [==============================] - 9s 156us/step - loss: 0.3097 - acc: 0.9142 - val_loss: 0.1080 - val_acc: 0.9779\n",
      "Epoch 15/25\n",
      "60000/60000 [==============================] - 10s 166us/step - loss: 0.3018 - acc: 0.9158 - val_loss: 0.1013 - val_acc: 0.9786\n",
      "Epoch 16/25\n",
      "60000/60000 [==============================] - 9s 155us/step - loss: 0.3012 - acc: 0.9168 - val_loss: 0.1034 - val_acc: 0.9778\n",
      "Epoch 17/25\n",
      "60000/60000 [==============================] - 9s 157us/step - loss: 0.2850 - acc: 0.9224 - val_loss: 0.0949 - val_acc: 0.9800\n",
      "Epoch 18/25\n",
      "60000/60000 [==============================] - 10s 159us/step - loss: 0.2817 - acc: 0.9228 - val_loss: 0.0976 - val_acc: 0.9808\n",
      "Epoch 19/25\n",
      "60000/60000 [==============================] - 10s 160us/step - loss: 0.2825 - acc: 0.9234 - val_loss: 0.1027 - val_acc: 0.9794\n",
      "Epoch 20/25\n",
      "60000/60000 [==============================] - 9s 155us/step - loss: 0.2722 - acc: 0.9263 - val_loss: 0.0955 - val_acc: 0.9809\n",
      "Epoch 21/25\n",
      "60000/60000 [==============================] - 9s 157us/step - loss: 0.2635 - acc: 0.9283 - val_loss: 0.0977 - val_acc: 0.9808\n",
      "Epoch 22/25\n",
      "60000/60000 [==============================] - 10s 162us/step - loss: 0.2626 - acc: 0.9267 - val_loss: 0.0951 - val_acc: 0.9811\n",
      "Epoch 23/25\n",
      "60000/60000 [==============================] - 10s 159us/step - loss: 0.2512 - acc: 0.9314 - val_loss: 0.0967 - val_acc: 0.9807\n",
      "Epoch 24/25\n",
      "60000/60000 [==============================] - 10s 159us/step - loss: 0.2507 - acc: 0.9315 - val_loss: 0.0937 - val_acc: 0.9820\n",
      "Epoch 25/25\n",
      "60000/60000 [==============================] - 9s 157us/step - loss: 0.2519 - acc: 0.9312 - val_loss: 0.0933 - val_acc: 0.9820\n"
     ]
    }
   ],
   "source": [
    "model_5.compile(optimizer='adam', loss='categorical_crossentropy', metrics=['accuracy'])\n",
    "history_5 = model_5.fit(x_train, y_train, batch_size=batch_size, epochs=nb_epoch, verbose=1, validation_data=(x_test, y_test))"
   ]
  },
  {
   "cell_type": "code",
   "execution_count": 0,
   "metadata": {
    "colab": {
     "base_uri": "https://localhost:8080/",
     "height": 317
    },
    "colab_type": "code",
    "executionInfo": {
     "elapsed": 2084,
     "status": "ok",
     "timestamp": 1559809679557,
     "user": {
      "displayName": "aniket rajani",
      "photoUrl": "https://lh4.googleusercontent.com/-YW3EVGDzDNk/AAAAAAAAAAI/AAAAAAAAAWc/JIWyh4t_fwc/s64/photo.jpg",
      "userId": "09924859060618605904"
     },
     "user_tz": -330
    },
    "id": "jdpd1PwH4qC6",
    "outputId": "9bae4f4d-a83f-422d-f182-44666d76bb1b"
   },
   "outputs": [
    {
     "name": "stdout",
     "output_type": "stream",
     "text": [
      "Test score: 0.09329995909105054\n",
      "Test accuracy: 0.982\n"
     ]
    },
    {
     "data": {
      "image/png": "[encoded data removed]",
      "text/plain": [
       "<Figure size 432x288 with 1 Axes>"
      ]
     },
     "metadata": {
      "tags": []
     },
     "output_type": "display_data"
    }
   ],
   "source": [
    "score = model_5.evaluate(x_test, y_test, verbose=0) \n",
    "print('Test score:', score[0]) \n",
    "print('Test accuracy:', score[1])\n",
    "\n",
    "fig,ax = plt.subplots(1,1)\n",
    "ax.set_xlabel('epoch') ; ax.set_ylabel('Categorical Crossentropy Loss')\n",
    "\n",
    "# list of epoch numbers\n",
    "x = list(range(1,nb_epoch+1))\n",
    "\n",
    "#Training loss\n",
    "vy = history_5.history['val_loss']\n",
    "ty = history_5.history['loss']\n",
    "plt_dynamic(x, vy, ty, ax)"
   ]
  },
  {
   "cell_type": "code",
   "execution_count": 0,
   "metadata": {
    "colab": {
     "base_uri": "https://localhost:8080/",
     "height": 340
    },
    "colab_type": "code",
    "executionInfo": {
     "elapsed": 1151,
     "status": "ok",
     "timestamp": 1559809798389,
     "user": {
      "displayName": "aniket rajani",
      "photoUrl": "https://lh4.googleusercontent.com/-YW3EVGDzDNk/AAAAAAAAAAI/AAAAAAAAAWc/JIWyh4t_fwc/s64/photo.jpg",
      "userId": "09924859060618605904"
     },
     "user_tz": -330
    },
    "id": "v4bn_59l5tda",
    "outputId": "1bab0d91-f8ab-4db4-97b5-46f3f8c2ce59"
   },
   "outputs": [
    {
     "name": "stdout",
     "output_type": "stream",
     "text": [
      "_________________________________________________________________\n",
      "Layer (type)                 Output Shape              Param #   \n",
      "=================================================================\n",
      "dense_32 (Dense)             (None, 512)               401920    \n",
      "_________________________________________________________________\n",
      "dense_33 (Dense)             (None, 256)               131328    \n",
      "_________________________________________________________________\n",
      "dense_34 (Dense)             (None, 64)                16448     \n",
      "_________________________________________________________________\n",
      "dense_35 (Dense)             (None, 32)                2080      \n",
      "_________________________________________________________________\n",
      "dense_36 (Dense)             (None, 16)                528       \n",
      "_________________________________________________________________\n",
      "dense_37 (Dense)             (None, 10)                170       \n",
      "=================================================================\n",
      "Total params: 552,474\n",
      "Trainable params: 552,474\n",
      "Non-trainable params: 0\n",
      "_________________________________________________________________\n"
     ]
    }
   ],
   "source": [
    "#Building a model\n",
    "#Designing the Architecture of Neural Network\n",
    "from keras.layers.normalization import BatchNormalization\n",
    "from keras.layers import Dropout\n",
    "from keras.initializers import he_normal\n",
    "\n",
    "model_5_we=Sequential()\n",
    "model_5_we.add(Dense(512, activation='relu', input_shape=(input_dim,), kernel_initializer=he_normal(seed=None)))\n",
    "\n",
    "model_5_we.add(Dense(256, activation='relu',kernel_initializer=he_normal(seed=None)))\n",
    "\n",
    "\n",
    "model_5_we.add(Dense(64, activation='relu', kernel_initializer=he_normal(seed=None)))\n",
    "\n",
    "model_5_we.add(Dense(32, activation='relu', kernel_initializer=he_normal(seed=None)))\n",
    "\n",
    "model_5_we.add(Dense(16, activation='relu', kernel_initializer=he_normal(seed=None)))\n",
    "        \n",
    "model_5_we.add(Dense(output_dim, activation='softmax'))\n",
    "model_5_we.summary()"
   ]
  },
  {
   "cell_type": "code",
   "execution_count": 0,
   "metadata": {
    "colab": {
     "base_uri": "https://localhost:8080/",
     "height": 884
    },
    "colab_type": "code",
    "executionInfo": {
     "elapsed": 170728,
     "status": "ok",
     "timestamp": 1559809995467,
     "user": {
      "displayName": "aniket rajani",
      "photoUrl": "https://lh4.googleusercontent.com/-YW3EVGDzDNk/AAAAAAAAAAI/AAAAAAAAAWc/JIWyh4t_fwc/s64/photo.jpg",
      "userId": "09924859060618605904"
     },
     "user_tz": -330
    },
    "id": "nj6gqsQi6KvR",
    "outputId": "cb90534e-ab14-4da9-b654-f1c5a273cec8"
   },
   "outputs": [
    {
     "name": "stdout",
     "output_type": "stream",
     "text": [
      "Train on 60000 samples, validate on 10000 samples\n",
      "Epoch 1/25\n",
      "60000/60000 [==============================] - 9s 142us/step - loss: 0.3275 - acc: 0.9002 - val_loss: 0.1544 - val_acc: 0.9552\n",
      "Epoch 2/25\n",
      "60000/60000 [==============================] - 7s 110us/step - loss: 0.1067 - acc: 0.9687 - val_loss: 0.0987 - val_acc: 0.9708\n",
      "Epoch 3/25\n",
      "60000/60000 [==============================] - 7s 111us/step - loss: 0.0678 - acc: 0.9795 - val_loss: 0.1008 - val_acc: 0.9696\n",
      "Epoch 4/25\n",
      "60000/60000 [==============================] - 7s 113us/step - loss: 0.0477 - acc: 0.9856 - val_loss: 0.0813 - val_acc: 0.9761\n",
      "Epoch 5/25\n",
      "60000/60000 [==============================] - 7s 114us/step - loss: 0.0366 - acc: 0.9886 - val_loss: 0.0919 - val_acc: 0.9749\n",
      "Epoch 6/25\n",
      "60000/60000 [==============================] - 7s 114us/step - loss: 0.0317 - acc: 0.9899 - val_loss: 0.0749 - val_acc: 0.9787\n",
      "Epoch 7/25\n",
      "60000/60000 [==============================] - 7s 117us/step - loss: 0.0254 - acc: 0.9919 - val_loss: 0.0803 - val_acc: 0.9796\n",
      "Epoch 8/25\n",
      "60000/60000 [==============================] - 7s 115us/step - loss: 0.0239 - acc: 0.9926 - val_loss: 0.0934 - val_acc: 0.9757\n",
      "Epoch 9/25\n",
      "60000/60000 [==============================] - 7s 109us/step - loss: 0.0204 - acc: 0.9936 - val_loss: 0.0732 - val_acc: 0.9819\n",
      "Epoch 10/25\n",
      "60000/60000 [==============================] - 6s 107us/step - loss: 0.0185 - acc: 0.9943 - val_loss: 0.1155 - val_acc: 0.9732\n",
      "Epoch 11/25\n",
      "60000/60000 [==============================] - 7s 113us/step - loss: 0.0184 - acc: 0.9942 - val_loss: 0.0929 - val_acc: 0.9790\n",
      "Epoch 12/25\n",
      "60000/60000 [==============================] - 7s 112us/step - loss: 0.0154 - acc: 0.9950 - val_loss: 0.0904 - val_acc: 0.9780\n",
      "Epoch 13/25\n",
      "60000/60000 [==============================] - 7s 110us/step - loss: 0.0172 - acc: 0.9943 - val_loss: 0.0952 - val_acc: 0.9797\n",
      "Epoch 14/25\n",
      "60000/60000 [==============================] - 7s 112us/step - loss: 0.0121 - acc: 0.9961 - val_loss: 0.0947 - val_acc: 0.9800\n",
      "Epoch 15/25\n",
      "60000/60000 [==============================] - 7s 110us/step - loss: 0.0134 - acc: 0.9957 - val_loss: 0.0923 - val_acc: 0.9797\n",
      "Epoch 16/25\n",
      "60000/60000 [==============================] - 6s 106us/step - loss: 0.0101 - acc: 0.9969 - val_loss: 0.0958 - val_acc: 0.9794\n",
      "Epoch 17/25\n",
      "60000/60000 [==============================] - 7s 110us/step - loss: 0.0134 - acc: 0.9956 - val_loss: 0.0802 - val_acc: 0.9831\n",
      "Epoch 18/25\n",
      "60000/60000 [==============================] - 7s 111us/step - loss: 0.0104 - acc: 0.9967 - val_loss: 0.0941 - val_acc: 0.9822\n",
      "Epoch 19/25\n",
      "60000/60000 [==============================] - 7s 114us/step - loss: 0.0089 - acc: 0.9972 - val_loss: 0.0896 - val_acc: 0.9814\n",
      "Epoch 20/25\n",
      "60000/60000 [==============================] - 7s 115us/step - loss: 0.0131 - acc: 0.9958 - val_loss: 0.0973 - val_acc: 0.9792\n",
      "Epoch 21/25\n",
      "60000/60000 [==============================] - 7s 115us/step - loss: 0.0091 - acc: 0.9969 - val_loss: 0.0974 - val_acc: 0.9797\n",
      "Epoch 22/25\n",
      "60000/60000 [==============================] - 7s 115us/step - loss: 0.0076 - acc: 0.9976 - val_loss: 0.0923 - val_acc: 0.9837\n",
      "Epoch 23/25\n",
      "60000/60000 [==============================] - 7s 110us/step - loss: 0.0095 - acc: 0.9972 - val_loss: 0.0912 - val_acc: 0.9813\n",
      "Epoch 24/25\n",
      "60000/60000 [==============================] - 6s 106us/step - loss: 0.0081 - acc: 0.9976 - val_loss: 0.0882 - val_acc: 0.9816\n",
      "Epoch 25/25\n",
      "60000/60000 [==============================] - 6s 108us/step - loss: 0.0077 - acc: 0.9976 - val_loss: 0.1109 - val_acc: 0.9795\n"
     ]
    }
   ],
   "source": [
    "model_5_we.compile(optimizer='adam', loss='categorical_crossentropy', metrics=['accuracy'])\n",
    "history_5_we = model_5_we.fit(x_train, y_train, batch_size=batch_size, epochs=nb_epoch, verbose=1, validation_data=(x_test, y_test))"
   ]
  },
  {
   "cell_type": "code",
   "execution_count": 0,
   "metadata": {
    "colab": {
     "base_uri": "https://localhost:8080/",
     "height": 317
    },
    "colab_type": "code",
    "executionInfo": {
     "elapsed": 2071,
     "status": "ok",
     "timestamp": 1559810000005,
     "user": {
      "displayName": "aniket rajani",
      "photoUrl": "https://lh4.googleusercontent.com/-YW3EVGDzDNk/AAAAAAAAAAI/AAAAAAAAAWc/JIWyh4t_fwc/s64/photo.jpg",
      "userId": "09924859060618605904"
     },
     "user_tz": -330
    },
    "id": "csToNcPl6zXL",
    "outputId": "36bc8e3d-b230-4ec9-8795-8d6e24cf0d9f"
   },
   "outputs": [
    {
     "name": "stdout",
     "output_type": "stream",
     "text": [
      "Test score: 0.11090268665388713\n",
      "Test accuracy: 0.9795\n"
     ]
    },
    {
     "data": {
      "image/png": "[encoded data removed]",
      "text/plain": [
       "<Figure size 432x288 with 1 Axes>"
      ]
     },
     "metadata": {
      "tags": []
     },
     "output_type": "display_data"
    }
   ],
   "source": [
    "score = model_5_we.evaluate(x_test, y_test, verbose=0) \n",
    "print('Test score:', score[0]) \n",
    "print('Test accuracy:', score[1])\n",
    "\n",
    "fig,ax = plt.subplots(1,1)\n",
    "ax.set_xlabel('epoch') ; ax.set_ylabel('Categorical Crossentropy Loss')\n",
    "\n",
    "# list of epoch numbers\n",
    "x = list(range(1,nb_epoch+1))\n",
    "\n",
    "#Training loss\n",
    "vy = history_5_we.history['val_loss']\n",
    "ty = history_5_we.history['loss']\n",
    "plt_dynamic(x, vy, ty, ax)"
   ]
  },
  {
   "cell_type": "code",
   "execution_count": 33,
   "metadata": {
    "colab": {
     "base_uri": "https://localhost:8080/",
     "height": 680
    },
    "colab_type": "code",
    "executionInfo": {
     "elapsed": 1716,
     "status": "ok",
     "timestamp": 1559850938009,
     "user": {
      "displayName": "aniket rajani",
      "photoUrl": "https://lh4.googleusercontent.com/-YW3EVGDzDNk/AAAAAAAAAAI/AAAAAAAAAWc/JIWyh4t_fwc/s64/photo.jpg",
      "userId": "09924859060618605904"
     },
     "user_tz": -330
    },
    "id": "qWaRBMeX6Rco",
    "outputId": "73d5c986-994e-4aac-d97a-a10f4bb418ce"
   },
   "outputs": [
    {
     "name": "stdout",
     "output_type": "stream",
     "text": [
      "_________________________________________________________________\n",
      "Layer (type)                 Output Shape              Param #   \n",
      "=================================================================\n",
      "dense_25 (Dense)             (None, 512)               401920    \n",
      "_________________________________________________________________\n",
      "batch_normalization_22 (Batc (None, 512)               2048      \n",
      "_________________________________________________________________\n",
      "dropout_22 (Dropout)         (None, 512)               0         \n",
      "_________________________________________________________________\n",
      "dense_26 (Dense)             (None, 256)               131328    \n",
      "_________________________________________________________________\n",
      "batch_normalization_23 (Batc (None, 256)               1024      \n",
      "_________________________________________________________________\n",
      "dropout_23 (Dropout)         (None, 256)               0         \n",
      "_________________________________________________________________\n",
      "dense_27 (Dense)             (None, 64)                16448     \n",
      "_________________________________________________________________\n",
      "batch_normalization_24 (Batc (None, 64)                256       \n",
      "_________________________________________________________________\n",
      "dropout_24 (Dropout)         (None, 64)                0         \n",
      "_________________________________________________________________\n",
      "dense_28 (Dense)             (None, 32)                2080      \n",
      "_________________________________________________________________\n",
      "batch_normalization_25 (Batc (None, 32)                128       \n",
      "_________________________________________________________________\n",
      "dropout_25 (Dropout)         (None, 32)                0         \n",
      "_________________________________________________________________\n",
      "dense_29 (Dense)             (None, 16)                528       \n",
      "_________________________________________________________________\n",
      "batch_normalization_26 (Batc (None, 16)                64        \n",
      "_________________________________________________________________\n",
      "dropout_26 (Dropout)         (None, 16)                0         \n",
      "_________________________________________________________________\n",
      "dense_30 (Dense)             (None, 10)                170       \n",
      "=================================================================\n",
      "Total params: 555,994\n",
      "Trainable params: 554,234\n",
      "Non-trainable params: 1,760\n",
      "_________________________________________________________________\n"
     ]
    }
   ],
   "source": [
    "#Dropout rate=0.2\n",
    "\n",
    "#Building a model\n",
    "#Designing the Architecture of Neural Network\n",
    "from keras.layers.normalization import BatchNormalization\n",
    "from keras.layers import Dropout\n",
    "from keras.initializers import he_normal\n",
    "\n",
    "model_5_dr=Sequential()\n",
    "model_5_dr.add(Dense(512, activation='relu', input_shape=(input_dim,), kernel_initializer=he_normal(seed=None)))\n",
    "model_5_dr.add(BatchNormalization())\n",
    "model_5_dr.add(Dropout(0.2))\n",
    "\n",
    "model_5_dr.add(Dense(256, activation='relu',kernel_initializer=he_normal(seed=None)))\n",
    "model_5_dr.add(BatchNormalization())\n",
    "model_5_dr.add(Dropout(0.2))\n",
    "\n",
    "\n",
    "model_5_dr.add(Dense(64, activation='relu', kernel_initializer=he_normal(seed=None)))\n",
    "model_5_dr.add(BatchNormalization())\n",
    "model_5_dr.add(Dropout(0.2))\n",
    "\n",
    "model_5_dr.add(Dense(32, activation='relu', kernel_initializer=he_normal(seed=None)))\n",
    "model_5_dr.add(BatchNormalization())\n",
    "model_5_dr.add(Dropout(0.2))\n",
    "\n",
    "model_5_dr.add(Dense(16, activation='relu', kernel_initializer=he_normal(seed=None)))\n",
    "model_5_dr.add(BatchNormalization())\n",
    "model_5_dr.add(Dropout(0.2))\n",
    "        \n",
    "model_5_dr.add(Dense(output_dim, activation='softmax'))\n",
    "model_5_dr.summary()"
   ]
  },
  {
   "cell_type": "code",
   "execution_count": 34,
   "metadata": {
    "colab": {
     "base_uri": "https://localhost:8080/",
     "height": 884
    },
    "colab_type": "code",
    "executionInfo": {
     "elapsed": 292196,
     "status": "ok",
     "timestamp": 1559851266595,
     "user": {
      "displayName": "aniket rajani",
      "photoUrl": "https://lh4.googleusercontent.com/-YW3EVGDzDNk/AAAAAAAAAAI/AAAAAAAAAWc/JIWyh4t_fwc/s64/photo.jpg",
      "userId": "09924859060618605904"
     },
     "user_tz": -330
    },
    "id": "swqlpnV1VWND",
    "outputId": "b7045778-162e-4366-92b2-6a383b3bdfbb"
   },
   "outputs": [
    {
     "name": "stdout",
     "output_type": "stream",
     "text": [
      "Train on 60000 samples, validate on 10000 samples\n",
      "Epoch 1/25\n",
      "60000/60000 [==============================] - 15s 244us/step - loss: 0.6715 - acc: 0.8169 - val_loss: 0.1674 - val_acc: 0.9559\n",
      "Epoch 2/25\n",
      "60000/60000 [==============================] - 11s 192us/step - loss: 0.2447 - acc: 0.9405 - val_loss: 0.1167 - val_acc: 0.9687\n",
      "Epoch 3/25\n",
      "60000/60000 [==============================] - 11s 190us/step - loss: 0.1804 - acc: 0.9563 - val_loss: 0.1014 - val_acc: 0.9732\n",
      "Epoch 4/25\n",
      "60000/60000 [==============================] - 11s 190us/step - loss: 0.1492 - acc: 0.9630 - val_loss: 0.0872 - val_acc: 0.9772\n",
      "Epoch 5/25\n",
      "60000/60000 [==============================] - 11s 190us/step - loss: 0.1229 - acc: 0.9689 - val_loss: 0.0893 - val_acc: 0.9763\n",
      "Epoch 6/25\n",
      "60000/60000 [==============================] - 11s 189us/step - loss: 0.1085 - acc: 0.9729 - val_loss: 0.0957 - val_acc: 0.9758\n",
      "Epoch 7/25\n",
      "60000/60000 [==============================] - 11s 192us/step - loss: 0.0944 - acc: 0.9757 - val_loss: 0.0864 - val_acc: 0.9784\n",
      "Epoch 8/25\n",
      "60000/60000 [==============================] - 11s 191us/step - loss: 0.0887 - acc: 0.9769 - val_loss: 0.0944 - val_acc: 0.9754\n",
      "Epoch 9/25\n",
      "60000/60000 [==============================] - 11s 189us/step - loss: 0.0821 - acc: 0.9790 - val_loss: 0.0754 - val_acc: 0.9806\n",
      "Epoch 10/25\n",
      "60000/60000 [==============================] - 11s 191us/step - loss: 0.0763 - acc: 0.9806 - val_loss: 0.0726 - val_acc: 0.9823\n",
      "Epoch 11/25\n",
      "60000/60000 [==============================] - 11s 190us/step - loss: 0.0690 - acc: 0.9826 - val_loss: 0.0750 - val_acc: 0.9803\n",
      "Epoch 12/25\n",
      "60000/60000 [==============================] - 12s 192us/step - loss: 0.0647 - acc: 0.9832 - val_loss: 0.0816 - val_acc: 0.9814\n",
      "Epoch 13/25\n",
      "60000/60000 [==============================] - 11s 191us/step - loss: 0.0610 - acc: 0.9843 - val_loss: 0.0784 - val_acc: 0.9821\n",
      "Epoch 14/25\n",
      "60000/60000 [==============================] - 12s 192us/step - loss: 0.0600 - acc: 0.9844 - val_loss: 0.0786 - val_acc: 0.9815\n",
      "Epoch 15/25\n",
      "60000/60000 [==============================] - 12s 192us/step - loss: 0.0550 - acc: 0.9858 - val_loss: 0.0703 - val_acc: 0.9830\n",
      "Epoch 16/25\n",
      "60000/60000 [==============================] - 11s 191us/step - loss: 0.0517 - acc: 0.9866 - val_loss: 0.0767 - val_acc: 0.9814\n",
      "Epoch 17/25\n",
      "60000/60000 [==============================] - 11s 190us/step - loss: 0.0514 - acc: 0.9868 - val_loss: 0.0734 - val_acc: 0.9827\n",
      "Epoch 18/25\n",
      "60000/60000 [==============================] - 12s 196us/step - loss: 0.0464 - acc: 0.9882 - val_loss: 0.0704 - val_acc: 0.9830\n",
      "Epoch 19/25\n",
      "60000/60000 [==============================] - 12s 192us/step - loss: 0.0438 - acc: 0.9886 - val_loss: 0.0712 - val_acc: 0.9835\n",
      "Epoch 20/25\n",
      "60000/60000 [==============================] - 11s 190us/step - loss: 0.0424 - acc: 0.9890 - val_loss: 0.0793 - val_acc: 0.9827\n",
      "Epoch 21/25\n",
      "60000/60000 [==============================] - 11s 190us/step - loss: 0.0394 - acc: 0.9899 - val_loss: 0.0804 - val_acc: 0.9816\n",
      "Epoch 22/25\n",
      "60000/60000 [==============================] - 11s 191us/step - loss: 0.0393 - acc: 0.9896 - val_loss: 0.0724 - val_acc: 0.9838\n",
      "Epoch 23/25\n",
      "60000/60000 [==============================] - 11s 189us/step - loss: 0.0376 - acc: 0.9902 - val_loss: 0.0748 - val_acc: 0.9838\n",
      "Epoch 24/25\n",
      "60000/60000 [==============================] - 11s 191us/step - loss: 0.0366 - acc: 0.9901 - val_loss: 0.0859 - val_acc: 0.9823\n",
      "Epoch 25/25\n",
      "60000/60000 [==============================] - 11s 191us/step - loss: 0.0369 - acc: 0.9904 - val_loss: 0.0762 - val_acc: 0.9843\n"
     ]
    }
   ],
   "source": [
    "model_5_dr.compile(optimizer='adam', loss='categorical_crossentropy', metrics=['accuracy'])\n",
    "history_5 = model_5_dr.fit(x_train, y_train, batch_size=batch_size, epochs=nb_epoch, verbose=1, validation_data=(x_test, y_test))"
   ]
  },
  {
   "cell_type": "code",
   "execution_count": 35,
   "metadata": {
    "colab": {
     "base_uri": "https://localhost:8080/",
     "height": 317
    },
    "colab_type": "code",
    "executionInfo": {
     "elapsed": 2450,
     "status": "ok",
     "timestamp": 1559851274167,
     "user": {
      "displayName": "aniket rajani",
      "photoUrl": "https://lh4.googleusercontent.com/-YW3EVGDzDNk/AAAAAAAAAAI/AAAAAAAAAWc/JIWyh4t_fwc/s64/photo.jpg",
      "userId": "09924859060618605904"
     },
     "user_tz": -330
    },
    "id": "XVFctJ5hVzi8",
    "outputId": "759c71fa-aa00-4961-ac72-0b05be39470f"
   },
   "outputs": [
    {
     "name": "stdout",
     "output_type": "stream",
     "text": [
      "Test score: 0.07617138812056509\n",
      "Test accuracy: 0.9843\n"
     ]
    },
    {
     "data": {
      "image/png": "[encoded data removed]",
      "text/plain": [
       "<Figure size 432x288 with 1 Axes>"
      ]
     },
     "metadata": {
      "tags": []
     },
     "output_type": "display_data"
    }
   ],
   "source": [
    "score = model_5_dr.evaluate(x_test, y_test, verbose=0) \n",
    "print('Test score:', score[0]) \n",
    "print('Test accuracy:', score[1])\n",
    "\n",
    "fig,ax = plt.subplots(1,1)\n",
    "ax.set_xlabel('epoch') ; ax.set_ylabel('Categorical Crossentropy Loss')\n",
    "\n",
    "# list of epoch numbers\n",
    "x = list(range(1,nb_epoch+1))\n",
    "\n",
    "#Training loss\n",
    "vy = history_5.history['val_loss']\n",
    "ty = history_5.history['loss']\n",
    "plt_dynamic(x, vy, ty, ax)"
   ]
  },
  {
   "cell_type": "code",
   "execution_count": 36,
   "metadata": {
    "colab": {
     "base_uri": "https://localhost:8080/",
     "height": 238
    },
    "colab_type": "code",
    "executionInfo": {
     "elapsed": 1058,
     "status": "ok",
     "timestamp": 1559851308867,
     "user": {
      "displayName": "aniket rajani",
      "photoUrl": "https://lh4.googleusercontent.com/-YW3EVGDzDNk/AAAAAAAAAAI/AAAAAAAAAWc/JIWyh4t_fwc/s64/photo.jpg",
      "userId": "09924859060618605904"
     },
     "user_tz": -330
    },
    "id": "-4OC8IXlWRY-",
    "outputId": "f6245d07-815e-4ab3-9e62-72c7fa40fe77"
   },
   "outputs": [
    {
     "name": "stdout",
     "output_type": "stream",
     "text": [
      "+--------------------------------------+-----------+---------------+---------------+\n",
      "|                 Name                 | Test Loss | Droupout-rate | Test Accuracy |\n",
      "+--------------------------------------+-----------+---------------+---------------+\n",
      "|  MLP(2 layers) with BN and dropout   |   0.065   |      0.5      |      98.3     |\n",
      "|  MLP(2 layers) with BN and dropout   |   0.0597  |      0.2      |     98.38     |\n",
      "| MLP(2 layers) without BN and dropout |   0.085   |      0.5      |      98.2     |\n",
      "|  MLP(3 layers) with BN and dropout   |   0.076   |      0.5      |     98.06     |\n",
      "|  MLP(3 layers) with BN and dropout   |   0.0633  |      0.2      |     98.33     |\n",
      "| MLP(3 layers) without BN and dropout |   0.107   |      0.5      |     97.99     |\n",
      "|  MLP(5 layers) with BN and dropout   |   0.093   |      0.5      |      98.2     |\n",
      "|  MLP(5 layers) with BN and dropout   |   0.076   |      0.2      |     98.43     |\n",
      "| MLP(5 layers) without BN and dropout |    0.11   |      0.5      |     97.95     |\n",
      "+--------------------------------------+-----------+---------------+---------------+\n"
     ]
    }
   ],
   "source": [
    "from prettytable import PrettyTable\n",
    "\n",
    "x=PrettyTable()\n",
    "x.field_names=([\"Name\",\"Test Loss\",\"Droupout-rate\",\"Test Accuracy\"])\n",
    "x.add_row([\"MLP(2 layers) with BN and dropout\",0.065,0.5,98.3])\n",
    "x.add_row([\"MLP(2 layers) with BN and dropout\",0.0597,0.2,98.38])\n",
    "x.add_row([\"MLP(2 layers) without BN and dropout\",0.085,0.5,98.2])\n",
    "x.add_row([\"MLP(3 layers) with BN and dropout\",0.076,0.5,98.06])\n",
    "x.add_row([\"MLP(3 layers) with BN and dropout\",0.0633,0.2,98.33])\n",
    "x.add_row([\"MLP(3 layers) without BN and dropout\",0.107,0.5,97.99])\n",
    "x.add_row([\"MLP(5 layers) with BN and dropout\",0.093,0.5,98.2])\n",
    "x.add_row([\"MLP(5 layers) with BN and dropout\",0.076,0.2,98.43])\n",
    "x.add_row([\"MLP(5 layers) without BN and dropout\",0.110,0.5,97.95])\n",
    "\n",
    "print(x)"
   ]
  },
  {
   "cell_type": "code",
   "execution_count": 0,
   "metadata": {
    "colab": {},
    "colab_type": "code",
    "id": "5eEBcWd0YhG1"
   },
   "outputs": [],
   "source": []
  },
  {
   "cell_type": "markdown",
   "metadata": {
    "colab_type": "text",
    "id": "rLvhV_5oYkUf"
   },
   "source": [
    "<b>Observations and Conclusions</b>"
   ]
  },
  {
   "cell_type": "markdown",
   "metadata": {
    "colab_type": "text",
    "id": "1oRuuv_RYmld"
   },
   "source": [
    "1.The maximum loss is seen for 5 layer MLP without Batch Normalization and dropout as beacause as the number of hidden layers increases covariance shift effect also increases.So it becomes very important to perform Batch Normalization on such deeper layers<br>\n",
    "2.I was trying to analyze how the model performs by taking more activation units in the 1st hidden layer.After plotting the graph of Epoch and Loss I observed that as epoch increases my training loss was reducing,but my test/validation loss had a zig zag shape,i.e for some epoch it would increase and immediately then it would decrease.<br>\n",
    "3.By taking dropout rate=0.2 the accuracy of the model has been increased and the loss has been decreased as compared to the loss when droupout=0.5"
   ]
  },
  {
   "cell_type": "code",
   "execution_count": 0,
   "metadata": {
    "colab": {},
    "colab_type": "code",
    "id": "G2BZM9zIYqA8"
   },
   "outputs": [],
   "source": []
  }
 ],
 "metadata": {
  "colab": {
   "collapsed_sections": [],
   "name": "Untitled0.ipynb",
   "provenance": [],
   "version": "0.3.2"
  },
  "kernelspec": {
   "display_name": "Python 2",
   "language": "python",
   "name": "python2"
  },
  "language_info": {
   "codemirror_mode": {
    "name": "ipython",
    "version": 2
   },
   "file_extension": ".py",
   "mimetype": "text/x-python",
   "name": "python",
   "nbconvert_exporter": "python",
   "pygments_lexer": "ipython2",
   "version": "2.7.16"
  }
 },
 "nbformat": 4,
 "nbformat_minor": 1
}
